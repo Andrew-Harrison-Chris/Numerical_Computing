{
 "cells": [
  {
   "cell_type": "markdown",
   "metadata": {},
   "source": [
    "\n",
    "We have a model and data. How do we fit that model to the data?? AKA parameter estimation, inverse problems, training, etc.\n",
    "\n",
    "## Shooting Method for Parameter Fitting\n",
    "\n",
    "We have some model $u=f(p)$ where $p$ represents our parameters. We put in some parameters, $p$ and recieve our simulated data $u$. How should you choose $p$ such that u best fits that data? \n",
    "\n",
    "The **shooting method** directly uses this model by putting a cost function on the output $C(p)$. A common loss function is the L2-loss function:\n",
    "$$\n",
    "C(p)=\\|f(p)-y\\|\n",
    "$$\n",
    "where $C(p): \\mathbb{R}^{n} \\rightarrow R $ is a function that returns a scalar. The shooting method directly optimizes this cost function by having the optimizer generate data given new choices of p.\n",
    "\n",
    "Julia has several nonlinear optimization methods. Here's three: JuMP.jl, Optim.jl, NLopt.jl.\n",
    "\n",
    "In general there are two methods:\n",
    "\n",
    "Local Optimization - Attempt to find the best nearby extrema by finding a point where $\\frac{d C}{d p}=0$. \n",
    "\n",
    "Global Optimization - Attempt to explore teh whole space and find the best of the extrema. Global methods are extremley computaionally difficult. \n",
    "\n",
    "We'll look at local optimization.\n",
    "\n",
    "The simplist of this is gradient descent, where given the parameters $p_i$, the next step is:\n",
    "$$\n",
    "p_{i+1}=p_{i}-\\alpha \\frac{d C}{d P}\n",
    "$$"
   ]
  },
  {
   "cell_type": "code",
   "execution_count": null,
   "metadata": {},
   "outputs": [],
   "source": []
  }
 ],
 "metadata": {
  "kernelspec": {
   "display_name": "Julia 1.3.1",
   "language": "julia",
   "name": "julia-1.3"
  },
  "language_info": {
   "file_extension": ".jl",
   "mimetype": "application/julia",
   "name": "julia",
   "version": "1.3.1"
  }
 },
 "nbformat": 4,
 "nbformat_minor": 2
}
