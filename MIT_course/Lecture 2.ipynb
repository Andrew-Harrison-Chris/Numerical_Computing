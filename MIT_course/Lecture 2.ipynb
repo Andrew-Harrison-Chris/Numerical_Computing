{
 "cells": [
  {
   "cell_type": "markdown",
   "metadata": {},
   "source": [
    "## Cache"
   ]
  },
  {
   "cell_type": "markdown",
   "metadata": {},
   "source": [
    "Julia is **column major**, meaning indexing by column is faster. Just like fortran. Python is row major\n",
    "\n",
    "A[column, row]"
   ]
  },
  {
   "cell_type": "code",
   "execution_count": 40,
   "metadata": {},
   "outputs": [],
   "source": [
    "using StaticArrays, BenchmarkTools, Plots, LinearAlgebra"
   ]
  },
  {
   "cell_type": "code",
   "execution_count": 2,
   "metadata": {},
   "outputs": [
    {
     "data": {
      "text/plain": [
       "column_major_sum (generic function with 1 method)"
      ]
     },
     "execution_count": 2,
     "metadata": {},
     "output_type": "execute_result"
    }
   ],
   "source": [
    "A = rand(16,16)\n",
    "\n",
    "function row_major_sum(A)\n",
    "    sum = 0\n",
    "    for i in 1:size(A)[1], j in 1:size(A)[1]\n",
    "        sum = sum + A[i,j]\n",
    "    end\n",
    "    return sum\n",
    "end\n",
    "\n",
    "function column_major_sum(A)\n",
    "    sum = 0\n",
    "    for j in 1:size(A)[1], i in 1:size(A)[1]\n",
    "        sum = sum + A[i,j]\n",
    "    end\n",
    "    return sum\n",
    "end"
   ]
  },
  {
   "cell_type": "code",
   "execution_count": 3,
   "metadata": {},
   "outputs": [
    {
     "name": "stdout",
     "output_type": "stream",
     "text": [
      "  347.335 ns (1 allocation: 16 bytes)\n",
      "  276.959 ns (1 allocation: 16 bytes)\n"
     ]
    }
   ],
   "source": [
    "@btime row_major_sum(A)\n",
    "@btime column_major_sum(A);"
   ]
  },
  {
   "cell_type": "markdown",
   "metadata": {},
   "source": [
    "Column major is faster, this is because in memory, columns are stored adjacently in cache"
   ]
  },
  {
   "cell_type": "markdown",
   "metadata": {},
   "source": [
    "## Stack and Heap\n",
    "\n",
    "Stack - Stack requires static allocation and is ordered. Because it is ordered, we can access things very quick. But, since it's ordered it requires size of variables at compile time in order to allocate space. \n",
    "\n",
    "Heap - Since knowing how big things will be is not always possible, the heap exists for dynamic allocations. The heap is a stack of pointers to objects in memory. When heap variables are needed their values are pulled up to the cache and accessed. \n",
    "\n",
    "## Heap Allocations\n",
    "Heap allocations are costly. Stack allocations should be used when sensible. "
   ]
  },
  {
   "cell_type": "code",
   "execution_count": 4,
   "metadata": {},
   "outputs": [
    {
     "data": {
      "text/plain": [
       "heap_allocation (generic function with 1 method)"
      ]
     },
     "execution_count": 4,
     "metadata": {},
     "output_type": "execute_result"
    }
   ],
   "source": [
    "A = rand(100,100)\n",
    "B = rand(100,100)\n",
    "C = zeros(100,100)\n",
    "\n",
    "function stack_allocation(A,B)\n",
    "    for j in 1:100, i in 1:100\n",
    "        #here julia allocates val to the stack because it is a scalar. It can guarntee\n",
    "        #that we will always have a certain amount of space used in it. \n",
    "        val = A[i,j] + B[i,j]\n",
    "        C[i,j] = val[1]\n",
    "    end\n",
    "    return C\n",
    "end\n",
    "\n",
    "function heap_allocation(A,B)\n",
    "    for j in 1:100, i in 1:100\n",
    "        #by making val an array, julia allocates to heap. we don't know how big it will get!\n",
    "        val = [A[i,j] + B[i,j]]\n",
    "        C[i,j] = val[1]\n",
    "    end\n",
    "    return C\n",
    "end"
   ]
  },
  {
   "cell_type": "code",
   "execution_count": 5,
   "metadata": {},
   "outputs": [
    {
     "name": "stdout",
     "output_type": "stream",
     "text": [
      "  292.387 μs (10000 allocations: 156.25 KiB)\n",
      "  638.892 μs (20000 allocations: 1.07 MiB)\n"
     ]
    }
   ],
   "source": [
    "@btime stack_allocation(A,B);\n",
    "@btime heap_allocation(A,B);"
   ]
  },
  {
   "cell_type": "markdown",
   "metadata": {},
   "source": [
    "Julia has static vectors, which allow us to allocate arrays to the stack instead of heap!"
   ]
  },
  {
   "cell_type": "code",
   "execution_count": 6,
   "metadata": {},
   "outputs": [
    {
     "name": "stdout",
     "output_type": "stream",
     "text": [
      "  290.719 μs (10000 allocations: 156.25 KiB)\n"
     ]
    }
   ],
   "source": [
    "using StaticArrays\n",
    "function staticvector_allocation(A,B)\n",
    "    for j in 1:100, i in 1:100\n",
    "        #by making val an array, julia allocates to heap. we don't know how big it will get!\n",
    "        val = @SVector [A[i,j] + B[i,j]]\n",
    "        C[i,j] = val[1]\n",
    "    end\n",
    "    return C\n",
    "end\n",
    "@btime staticvector_allocation(A,B);"
   ]
  },
  {
   "cell_type": "markdown",
   "metadata": {},
   "source": [
    "Not quite as fast as a scalar! But huge improvement, from a heap vector. What if we allocate matrices to the stack as well?"
   ]
  },
  {
   "cell_type": "code",
   "execution_count": 7,
   "metadata": {},
   "outputs": [
    {
     "name": "stdout",
     "output_type": "stream",
     "text": [
      "  261.724 ns (0 allocations: 0 bytes)\n",
      "  225.205 ns (0 allocations: 0 bytes)\n"
     ]
    }
   ],
   "source": [
    "A_static = @SMatrix rand(16,16)\n",
    "B_static = @SMatrix rand(16,16)\n",
    "C_static = @MMatrix zeros(16,16)\n",
    "\n",
    "A = rand(16,16)\n",
    "B = rand(16,16)\n",
    "C = zeros(16,16)\n",
    "\n",
    "\n",
    "function stack_allocation!(C,A,B)\n",
    "    for j in 1:16, i in 1:16\n",
    "        val = A[i,j] + B[i,j]\n",
    "        C[i,j] = val[1]\n",
    "    end\n",
    "    return C\n",
    "end\n",
    "\n",
    "@btime stack_allocation!(C_static, A_static, B_static);\n",
    "@btime stack_allocation!(C,A,B);"
   ]
  },
  {
   "cell_type": "code",
   "execution_count": 8,
   "metadata": {},
   "outputs": [
    {
     "name": "stdout",
     "output_type": "stream",
     "text": [
      "  760.613 ns (1 allocation: 2.06 KiB)\n"
     ]
    }
   ],
   "source": [
    "@btime A_static * B_static;"
   ]
  },
  {
   "cell_type": "code",
   "execution_count": 9,
   "metadata": {},
   "outputs": [
    {
     "name": "stdout",
     "output_type": "stream",
     "text": [
      "  896.317 ns (1 allocation: 2.13 KiB)\n"
     ]
    }
   ],
   "source": [
    "@btime A*B;"
   ]
  },
  {
   "cell_type": "code",
   "execution_count": 10,
   "metadata": {},
   "outputs": [
    {
     "name": "stdout",
     "output_type": "stream",
     "text": [
      "  260.612 ns (0 allocations: 0 bytes)\n"
     ]
    }
   ],
   "source": [
    "@btime stack_allocation!(C_static, A_static, B_static);"
   ]
  },
  {
   "cell_type": "markdown",
   "metadata": {},
   "source": [
    "Turns out @MMatrix is still heap allocated. But its faster for multiplication, not the example above?\n",
    "I'm not sure why"
   ]
  },
  {
   "cell_type": "markdown",
   "metadata": {},
   "source": [
    "## Julia Broadcasting\n",
    "We can use array vectorization to avoid writing loops\n",
    "\n",
    "The following two statements are equivalent"
   ]
  },
  {
   "cell_type": "code",
   "execution_count": 11,
   "metadata": {},
   "outputs": [
    {
     "data": {
      "text/plain": [
       "true"
      ]
     },
     "execution_count": 11,
     "metadata": {},
     "output_type": "execute_result"
    }
   ],
   "source": [
    "A = rand(16,16)\n",
    "B = rand(16,16)\n",
    "#statement 1:\n",
    "C = A .+ B #element wise addition!\n",
    "\n",
    "D = zeros(16,16)\n",
    "#statement 2:\n",
    "for j in 1:16, i in 1:16\n",
    "    D[i,j] = A[i,j] + B[i,j]\n",
    "end\n",
    "\n",
    "C==D"
   ]
  },
  {
   "cell_type": "markdown",
   "metadata": {},
   "source": [
    "But looping is the same speed, looping is not slow in julia, c++, and fortran. In python broadcasting is reccomended"
   ]
  },
  {
   "cell_type": "code",
   "execution_count": 12,
   "metadata": {},
   "outputs": [
    {
     "name": "stdout",
     "output_type": "stream",
     "text": [
      "  842.607 ns (2 allocations: 4.25 KiB)\n"
     ]
    }
   ],
   "source": [
    "function unfused(A,B,C)\n",
    "  tmp = A .+ B\n",
    "  C .+ tmp\n",
    "end\n",
    "w = @btime unfused(A,B,C);"
   ]
  },
  {
   "cell_type": "code",
   "execution_count": 13,
   "metadata": {},
   "outputs": [
    {
     "name": "stdout",
     "output_type": "stream",
     "text": [
      "  804.188 ns (5 allocations: 2.22 KiB)\n"
     ]
    }
   ],
   "source": [
    "fused(A,B,D) = A .+ B .+ C\n",
    "w2 = @btime fused(A,B,C);\n"
   ]
  },
  {
   "cell_type": "markdown",
   "metadata": {},
   "source": [
    "## Heap allocations from slicing\n",
    "Outputting a slice, allocates this into the heap.\n",
    "We can @view, to allocate only a pointer which will be very small."
   ]
  },
  {
   "cell_type": "code",
   "execution_count": 14,
   "metadata": {},
   "outputs": [],
   "source": [
    "A = rand(100,100);"
   ]
  },
  {
   "cell_type": "code",
   "execution_count": 15,
   "metadata": {},
   "outputs": [
    {
     "name": "stdout",
     "output_type": "stream",
     "text": [
      "  25.970 ns (1 allocation: 48 bytes)\n"
     ]
    },
    {
     "data": {
      "text/plain": [
       "0-dimensional view(::Array{Float64,2}, 50, 50) with eltype Float64:\n",
       "0.7649130463502658"
      ]
     },
     "execution_count": 15,
     "metadata": {},
     "output_type": "execute_result"
    }
   ],
   "source": [
    "@btime @view A[50,50]"
   ]
  },
  {
   "cell_type": "code",
   "execution_count": 16,
   "metadata": {},
   "outputs": [
    {
     "name": "stdout",
     "output_type": "stream",
     "text": [
      "A[50, 50] = 0.7649130463502658\n"
     ]
    },
    {
     "data": {
      "text/plain": [
       "0.7649130463502658"
      ]
     },
     "execution_count": 16,
     "metadata": {},
     "output_type": "execute_result"
    }
   ],
   "source": [
    " @show A[50,50]"
   ]
  },
  {
   "cell_type": "markdown",
   "metadata": {},
   "source": [
    "## Asymtopic Cost of Heap Allocations\n",
    "\n",
    "Heap allocations have to locate and prepare a space in RAM, the cost of an array is O(n). As ram fills up, the cost dramatically increases. If you run out of ram, your computer will start to use swap, which is essentially RAM simulated on your hard drive. Swap is incredibly slow.\n",
    "\n",
    "Heap allocations will dominate cost."
   ]
  },
  {
   "cell_type": "code",
   "execution_count": 19,
   "metadata": {},
   "outputs": [
    {
     "data": {
      "image/svg+xml": [
       "<?xml version=\"1.0\" encoding=\"utf-8\"?>\n",
       "<svg xmlns=\"http://www.w3.org/2000/svg\" xmlns:xlink=\"http://www.w3.org/1999/xlink\" width=\"600\" height=\"400\" viewBox=\"0 0 2400 1600\">\n",
       "<defs>\n",
       "  <clipPath id=\"clip8700\">\n",
       "    <rect x=\"0\" y=\"0\" width=\"2400\" height=\"1600\"/>\n",
       "  </clipPath>\n",
       "</defs>\n",
       "<path clip-path=\"url(#clip8700)\" d=\"\n",
       "M0 1600 L2400 1600 L2400 0 L0 0  Z\n",
       "  \" fill=\"#ffffff\" fill-rule=\"evenodd\" fill-opacity=\"1\"/>\n",
       "<defs>\n",
       "  <clipPath id=\"clip8701\">\n",
       "    <rect x=\"480\" y=\"0\" width=\"1681\" height=\"1600\"/>\n",
       "  </clipPath>\n",
       "</defs>\n",
       "<path clip-path=\"url(#clip8700)\" d=\"\n",
       "M258.107 1487.47 L2352.76 1487.47 L2352.76 121.675 L258.107 121.675  Z\n",
       "  \" fill=\"#ffffff\" fill-rule=\"evenodd\" fill-opacity=\"1\"/>\n",
       "<defs>\n",
       "  <clipPath id=\"clip8702\">\n",
       "    <rect x=\"258\" y=\"121\" width=\"2096\" height=\"1367\"/>\n",
       "  </clipPath>\n",
       "</defs>\n",
       "<polyline clip-path=\"url(#clip8702)\" style=\"stroke:#000000; stroke-width:2; stroke-opacity:0.1; fill:none\" points=\"\n",
       "  752.763,1487.47 752.763,121.675 \n",
       "  \"/>\n",
       "<polyline clip-path=\"url(#clip8702)\" style=\"stroke:#000000; stroke-width:2; stroke-opacity:0.1; fill:none\" points=\"\n",
       "  1299.8,1487.47 1299.8,121.675 \n",
       "  \"/>\n",
       "<polyline clip-path=\"url(#clip8702)\" style=\"stroke:#000000; stroke-width:2; stroke-opacity:0.1; fill:none\" points=\"\n",
       "  1846.83,1487.47 1846.83,121.675 \n",
       "  \"/>\n",
       "<polyline clip-path=\"url(#clip8702)\" style=\"stroke:#000000; stroke-width:2; stroke-opacity:0.1; fill:none\" points=\"\n",
       "  1846.83,1487.47 1846.83,121.675 \n",
       "  \"/>\n",
       "<polyline clip-path=\"url(#clip8702)\" style=\"stroke:#000000; stroke-width:2; stroke-opacity:0.1; fill:none\" points=\"\n",
       "  258.107,1455.19 2352.76,1455.19 \n",
       "  \"/>\n",
       "<polyline clip-path=\"url(#clip8702)\" style=\"stroke:#000000; stroke-width:2; stroke-opacity:0.1; fill:none\" points=\"\n",
       "  258.107,1258.24 2352.76,1258.24 \n",
       "  \"/>\n",
       "<polyline clip-path=\"url(#clip8702)\" style=\"stroke:#000000; stroke-width:2; stroke-opacity:0.1; fill:none\" points=\"\n",
       "  258.107,1061.28 2352.76,1061.28 \n",
       "  \"/>\n",
       "<polyline clip-path=\"url(#clip8702)\" style=\"stroke:#000000; stroke-width:2; stroke-opacity:0.1; fill:none\" points=\"\n",
       "  258.107,864.324 2352.76,864.324 \n",
       "  \"/>\n",
       "<polyline clip-path=\"url(#clip8702)\" style=\"stroke:#000000; stroke-width:2; stroke-opacity:0.1; fill:none\" points=\"\n",
       "  258.107,667.368 2352.76,667.368 \n",
       "  \"/>\n",
       "<polyline clip-path=\"url(#clip8702)\" style=\"stroke:#000000; stroke-width:2; stroke-opacity:0.1; fill:none\" points=\"\n",
       "  258.107,470.411 2352.76,470.411 \n",
       "  \"/>\n",
       "<polyline clip-path=\"url(#clip8702)\" style=\"stroke:#000000; stroke-width:2; stroke-opacity:0.1; fill:none\" points=\"\n",
       "  258.107,273.455 2352.76,273.455 \n",
       "  \"/>\n",
       "<polyline clip-path=\"url(#clip8700)\" style=\"stroke:#000000; stroke-width:4; stroke-opacity:1; fill:none\" points=\"\n",
       "  258.107,1487.47 2352.76,1487.47 \n",
       "  \"/>\n",
       "<polyline clip-path=\"url(#clip8700)\" style=\"stroke:#000000; stroke-width:4; stroke-opacity:1; fill:none\" points=\"\n",
       "  258.107,1487.47 258.107,121.675 \n",
       "  \"/>\n",
       "<polyline clip-path=\"url(#clip8700)\" style=\"stroke:#000000; stroke-width:4; stroke-opacity:1; fill:none\" points=\"\n",
       "  752.763,1487.47 752.763,1471.09 \n",
       "  \"/>\n",
       "<polyline clip-path=\"url(#clip8700)\" style=\"stroke:#000000; stroke-width:4; stroke-opacity:1; fill:none\" points=\"\n",
       "  1299.8,1487.47 1299.8,1471.09 \n",
       "  \"/>\n",
       "<polyline clip-path=\"url(#clip8700)\" style=\"stroke:#000000; stroke-width:4; stroke-opacity:1; fill:none\" points=\"\n",
       "  1846.83,1487.47 1846.83,1471.09 \n",
       "  \"/>\n",
       "<polyline clip-path=\"url(#clip8700)\" style=\"stroke:#000000; stroke-width:4; stroke-opacity:1; fill:none\" points=\"\n",
       "  1846.83,1487.47 1846.83,1471.09 \n",
       "  \"/>\n",
       "<polyline clip-path=\"url(#clip8700)\" style=\"stroke:#000000; stroke-width:4; stroke-opacity:1; fill:none\" points=\"\n",
       "  258.107,1455.19 283.243,1455.19 \n",
       "  \"/>\n",
       "<polyline clip-path=\"url(#clip8700)\" style=\"stroke:#000000; stroke-width:4; stroke-opacity:1; fill:none\" points=\"\n",
       "  258.107,1258.24 283.243,1258.24 \n",
       "  \"/>\n",
       "<polyline clip-path=\"url(#clip8700)\" style=\"stroke:#000000; stroke-width:4; stroke-opacity:1; fill:none\" points=\"\n",
       "  258.107,1061.28 283.243,1061.28 \n",
       "  \"/>\n",
       "<polyline clip-path=\"url(#clip8700)\" style=\"stroke:#000000; stroke-width:4; stroke-opacity:1; fill:none\" points=\"\n",
       "  258.107,864.324 283.243,864.324 \n",
       "  \"/>\n",
       "<polyline clip-path=\"url(#clip8700)\" style=\"stroke:#000000; stroke-width:4; stroke-opacity:1; fill:none\" points=\"\n",
       "  258.107,667.368 283.243,667.368 \n",
       "  \"/>\n",
       "<polyline clip-path=\"url(#clip8700)\" style=\"stroke:#000000; stroke-width:4; stroke-opacity:1; fill:none\" points=\"\n",
       "  258.107,470.411 283.243,470.411 \n",
       "  \"/>\n",
       "<polyline clip-path=\"url(#clip8700)\" style=\"stroke:#000000; stroke-width:4; stroke-opacity:1; fill:none\" points=\"\n",
       "  258.107,273.455 283.243,273.455 \n",
       "  \"/>\n",
       "<g clip-path=\"url(#clip8700)\">\n",
       "<text style=\"fill:#000000; fill-opacity:1; font-family:Arial,Helvetica Neue,Helvetica,sans-serif; font-size:48px; text-anchor:start;\" transform=\"rotate(0, 698.82, 1562.48)\" x=\"698.82\" y=\"1562.48\">10</text>\n",
       "</g>\n",
       "<g clip-path=\"url(#clip8700)\">\n",
       "<text style=\"fill:#000000; fill-opacity:1; font-family:Arial,Helvetica Neue,Helvetica,sans-serif; font-size:38px; text-anchor:start;\" transform=\"rotate(0, 752.345, 1535.07)\" x=\"752.345\" y=\"1535.07\">1.0</text>\n",
       "</g>\n",
       "<g clip-path=\"url(#clip8700)\">\n",
       "<text style=\"fill:#000000; fill-opacity:1; font-family:Arial,Helvetica Neue,Helvetica,sans-serif; font-size:48px; text-anchor:start;\" transform=\"rotate(0, 1245.85, 1562.48)\" x=\"1245.85\" y=\"1562.48\">10</text>\n",
       "</g>\n",
       "<g clip-path=\"url(#clip8700)\">\n",
       "<text style=\"fill:#000000; fill-opacity:1; font-family:Arial,Helvetica Neue,Helvetica,sans-serif; font-size:38px; text-anchor:start;\" transform=\"rotate(0, 1299.38, 1535.07)\" x=\"1299.38\" y=\"1535.07\">1.5</text>\n",
       "</g>\n",
       "<g clip-path=\"url(#clip8700)\">\n",
       "<text style=\"fill:#000000; fill-opacity:1; font-family:Arial,Helvetica Neue,Helvetica,sans-serif; font-size:48px; text-anchor:start;\" transform=\"rotate(0, 1792.89, 1562.48)\" x=\"1792.89\" y=\"1562.48\">10</text>\n",
       "</g>\n",
       "<g clip-path=\"url(#clip8700)\">\n",
       "<text style=\"fill:#000000; fill-opacity:1; font-family:Arial,Helvetica Neue,Helvetica,sans-serif; font-size:38px; text-anchor:start;\" transform=\"rotate(0, 1846.41, 1535.07)\" x=\"1846.41\" y=\"1535.07\">2.0</text>\n",
       "</g>\n",
       "<g clip-path=\"url(#clip8700)\">\n",
       "<text style=\"fill:#000000; fill-opacity:1; font-family:Arial,Helvetica Neue,Helvetica,sans-serif; font-size:48px; text-anchor:start;\" transform=\"rotate(0, 1792.89, 1562.48)\" x=\"1792.89\" y=\"1562.48\">10</text>\n",
       "</g>\n",
       "<g clip-path=\"url(#clip8700)\">\n",
       "<text style=\"fill:#000000; fill-opacity:1; font-family:Arial,Helvetica Neue,Helvetica,sans-serif; font-size:38px; text-anchor:start;\" transform=\"rotate(0, 1846.41, 1535.07)\" x=\"1846.41\" y=\"1535.07\">2.0</text>\n",
       "</g>\n",
       "<g clip-path=\"url(#clip8700)\">\n",
       "<text style=\"fill:#000000; fill-opacity:1; font-family:Arial,Helvetica Neue,Helvetica,sans-serif; font-size:48px; text-anchor:start;\" transform=\"rotate(0, 103.382, 1478.92)\" x=\"103.382\" y=\"1478.92\">10</text>\n",
       "</g>\n",
       "<g clip-path=\"url(#clip8700)\">\n",
       "<text style=\"fill:#000000; fill-opacity:1; font-family:Arial,Helvetica Neue,Helvetica,sans-serif; font-size:38px; text-anchor:start;\" transform=\"rotate(0, 156.907, 1451.51)\" x=\"156.907\" y=\"1451.51\">-</text>\n",
       "</g>\n",
       "<g clip-path=\"url(#clip8700)\">\n",
       "<text style=\"fill:#000000; fill-opacity:1; font-family:Arial,Helvetica Neue,Helvetica,sans-serif; font-size:38px; text-anchor:start;\" transform=\"rotate(0, 179.746, 1451.51)\" x=\"179.746\" y=\"1451.51\">7.5</text>\n",
       "</g>\n",
       "<g clip-path=\"url(#clip8700)\">\n",
       "<text style=\"fill:#000000; fill-opacity:1; font-family:Arial,Helvetica Neue,Helvetica,sans-serif; font-size:48px; text-anchor:start;\" transform=\"rotate(0, 103.382, 1281.96)\" x=\"103.382\" y=\"1281.96\">10</text>\n",
       "</g>\n",
       "<g clip-path=\"url(#clip8700)\">\n",
       "<text style=\"fill:#000000; fill-opacity:1; font-family:Arial,Helvetica Neue,Helvetica,sans-serif; font-size:38px; text-anchor:start;\" transform=\"rotate(0, 156.907, 1254.55)\" x=\"156.907\" y=\"1254.55\">-</text>\n",
       "</g>\n",
       "<g clip-path=\"url(#clip8700)\">\n",
       "<text style=\"fill:#000000; fill-opacity:1; font-family:Arial,Helvetica Neue,Helvetica,sans-serif; font-size:38px; text-anchor:start;\" transform=\"rotate(0, 179.746, 1254.55)\" x=\"179.746\" y=\"1254.55\">7.0</text>\n",
       "</g>\n",
       "<g clip-path=\"url(#clip8700)\">\n",
       "<text style=\"fill:#000000; fill-opacity:1; font-family:Arial,Helvetica Neue,Helvetica,sans-serif; font-size:48px; text-anchor:start;\" transform=\"rotate(0, 103.382, 1085.01)\" x=\"103.382\" y=\"1085.01\">10</text>\n",
       "</g>\n",
       "<g clip-path=\"url(#clip8700)\">\n",
       "<text style=\"fill:#000000; fill-opacity:1; font-family:Arial,Helvetica Neue,Helvetica,sans-serif; font-size:38px; text-anchor:start;\" transform=\"rotate(0, 156.907, 1057.6)\" x=\"156.907\" y=\"1057.6\">-</text>\n",
       "</g>\n",
       "<g clip-path=\"url(#clip8700)\">\n",
       "<text style=\"fill:#000000; fill-opacity:1; font-family:Arial,Helvetica Neue,Helvetica,sans-serif; font-size:38px; text-anchor:start;\" transform=\"rotate(0, 179.746, 1057.6)\" x=\"179.746\" y=\"1057.6\">6.5</text>\n",
       "</g>\n",
       "<g clip-path=\"url(#clip8700)\">\n",
       "<text style=\"fill:#000000; fill-opacity:1; font-family:Arial,Helvetica Neue,Helvetica,sans-serif; font-size:48px; text-anchor:start;\" transform=\"rotate(0, 103.382, 888.051)\" x=\"103.382\" y=\"888.051\">10</text>\n",
       "</g>\n",
       "<g clip-path=\"url(#clip8700)\">\n",
       "<text style=\"fill:#000000; fill-opacity:1; font-family:Arial,Helvetica Neue,Helvetica,sans-serif; font-size:38px; text-anchor:start;\" transform=\"rotate(0, 156.907, 860.641)\" x=\"156.907\" y=\"860.641\">-</text>\n",
       "</g>\n",
       "<g clip-path=\"url(#clip8700)\">\n",
       "<text style=\"fill:#000000; fill-opacity:1; font-family:Arial,Helvetica Neue,Helvetica,sans-serif; font-size:38px; text-anchor:start;\" transform=\"rotate(0, 179.746, 860.641)\" x=\"179.746\" y=\"860.641\">6.0</text>\n",
       "</g>\n",
       "<g clip-path=\"url(#clip8700)\">\n",
       "<text style=\"fill:#000000; fill-opacity:1; font-family:Arial,Helvetica Neue,Helvetica,sans-serif; font-size:48px; text-anchor:start;\" transform=\"rotate(0, 103.382, 691.095)\" x=\"103.382\" y=\"691.095\">10</text>\n",
       "</g>\n",
       "<g clip-path=\"url(#clip8700)\">\n",
       "<text style=\"fill:#000000; fill-opacity:1; font-family:Arial,Helvetica Neue,Helvetica,sans-serif; font-size:38px; text-anchor:start;\" transform=\"rotate(0, 156.907, 663.685)\" x=\"156.907\" y=\"663.685\">-</text>\n",
       "</g>\n",
       "<g clip-path=\"url(#clip8700)\">\n",
       "<text style=\"fill:#000000; fill-opacity:1; font-family:Arial,Helvetica Neue,Helvetica,sans-serif; font-size:38px; text-anchor:start;\" transform=\"rotate(0, 179.746, 663.685)\" x=\"179.746\" y=\"663.685\">5.5</text>\n",
       "</g>\n",
       "<g clip-path=\"url(#clip8700)\">\n",
       "<text style=\"fill:#000000; fill-opacity:1; font-family:Arial,Helvetica Neue,Helvetica,sans-serif; font-size:48px; text-anchor:start;\" transform=\"rotate(0, 103.382, 494.139)\" x=\"103.382\" y=\"494.139\">10</text>\n",
       "</g>\n",
       "<g clip-path=\"url(#clip8700)\">\n",
       "<text style=\"fill:#000000; fill-opacity:1; font-family:Arial,Helvetica Neue,Helvetica,sans-serif; font-size:38px; text-anchor:start;\" transform=\"rotate(0, 156.907, 466.729)\" x=\"156.907\" y=\"466.729\">-</text>\n",
       "</g>\n",
       "<g clip-path=\"url(#clip8700)\">\n",
       "<text style=\"fill:#000000; fill-opacity:1; font-family:Arial,Helvetica Neue,Helvetica,sans-serif; font-size:38px; text-anchor:start;\" transform=\"rotate(0, 179.746, 466.729)\" x=\"179.746\" y=\"466.729\">5.0</text>\n",
       "</g>\n",
       "<g clip-path=\"url(#clip8700)\">\n",
       "<text style=\"fill:#000000; fill-opacity:1; font-family:Arial,Helvetica Neue,Helvetica,sans-serif; font-size:48px; text-anchor:start;\" transform=\"rotate(0, 103.382, 297.183)\" x=\"103.382\" y=\"297.183\">10</text>\n",
       "</g>\n",
       "<g clip-path=\"url(#clip8700)\">\n",
       "<text style=\"fill:#000000; fill-opacity:1; font-family:Arial,Helvetica Neue,Helvetica,sans-serif; font-size:38px; text-anchor:start;\" transform=\"rotate(0, 156.907, 269.772)\" x=\"156.907\" y=\"269.772\">-</text>\n",
       "</g>\n",
       "<g clip-path=\"url(#clip8700)\">\n",
       "<text style=\"fill:#000000; fill-opacity:1; font-family:Arial,Helvetica Neue,Helvetica,sans-serif; font-size:38px; text-anchor:start;\" transform=\"rotate(0, 179.746, 269.772)\" x=\"179.746\" y=\"269.772\">4.5</text>\n",
       "</g>\n",
       "<g clip-path=\"url(#clip8700)\">\n",
       "<text style=\"fill:#000000; fill-opacity:1; font-family:Arial,Helvetica Neue,Helvetica,sans-serif; font-size:84px; text-anchor:middle;\" transform=\"rotate(0, 1305.43, 73.2)\" x=\"1305.43\" y=\"73.2\">Micro-optimizations matter for BLAS1</text>\n",
       "</g>\n",
       "<polyline clip-path=\"url(#clip8702)\" style=\"stroke:#009af9; stroke-width:4; stroke-opacity:1; fill:none\" points=\"\n",
       "  317.39,1316.39 646.737,1206 976.084,1016.34 1305.43,873.487 1634.78,659.525 1964.13,401.229 2293.47,160.33 \n",
       "  \"/>\n",
       "<polyline clip-path=\"url(#clip8702)\" style=\"stroke:#e26f46; stroke-width:4; stroke-opacity:1; fill:none\" points=\"\n",
       "  317.39,1448.82 646.737,1308.97 976.084,1219.55 1305.43,1069.93 1634.78,784.55 1964.13,461.56 2293.47,217.481 \n",
       "  \"/>\n",
       "<path clip-path=\"url(#clip8700)\" d=\"\n",
       "M1999.26 1343.47 L2280.76 1343.47 L2280.76 1162.03 L1999.26 1162.03  Z\n",
       "  \" fill=\"#ffffff\" fill-rule=\"evenodd\" fill-opacity=\"1\"/>\n",
       "<polyline clip-path=\"url(#clip8700)\" style=\"stroke:#000000; stroke-width:4; stroke-opacity:1; fill:none\" points=\"\n",
       "  1999.26,1343.47 2280.76,1343.47 2280.76,1162.03 1999.26,1162.03 1999.26,1343.47 \n",
       "  \"/>\n",
       "<polyline clip-path=\"url(#clip8700)\" style=\"stroke:#009af9; stroke-width:4; stroke-opacity:1; fill:none\" points=\"\n",
       "  2023.26,1222.51 2167.26,1222.51 \n",
       "  \"/>\n",
       "<g clip-path=\"url(#clip8700)\">\n",
       "<text style=\"fill:#000000; fill-opacity:1; font-family:Arial,Helvetica Neue,Helvetica,sans-serif; font-size:48px; text-anchor:start;\" transform=\"rotate(0, 2191.26, 1240.01)\" x=\"2191.26\" y=\"1240.01\">=</text>\n",
       "</g>\n",
       "<polyline clip-path=\"url(#clip8700)\" style=\"stroke:#e26f46; stroke-width:4; stroke-opacity:1; fill:none\" points=\"\n",
       "  2023.26,1282.99 2167.26,1282.99 \n",
       "  \"/>\n",
       "<g clip-path=\"url(#clip8700)\">\n",
       "<text style=\"fill:#000000; fill-opacity:1; font-family:Arial,Helvetica Neue,Helvetica,sans-serif; font-size:48px; text-anchor:start;\" transform=\"rotate(0, 2191.26, 1300.49)\" x=\"2191.26\" y=\"1300.49\">.=</text>\n",
       "</g>\n",
       "</svg>\n"
      ]
     },
     "execution_count": 19,
     "metadata": {},
     "output_type": "execute_result"
    }
   ],
   "source": [
    "function alloc_timer(n)\n",
    "    A = rand(n,n)\n",
    "    B = rand(n,n)\n",
    "    C = rand(n,n)\n",
    "    #belapsed returns the time it took to run the calculation.\n",
    "    #$ is for variables that depend on external variables. A depends on n\n",
    "    # so this will avoid counting the n time when doing this calculation.\n",
    "    t1 = @belapsed $A .* $B\n",
    "    t2 = @belapsed ($C .= $A .* $B)\n",
    "    t1,t2\n",
    "end\n",
    "ns = 2 .^ (2:8)\n",
    "res = [alloc_timer(n) for n in ns]\n",
    "alloc   = [x[1] for x in res]\n",
    "noalloc = [x[2] for x in res]\n",
    "\n",
    "plot(ns,alloc,label=\"=\",xscale=:log10,yscale=:log10,legend=:bottomright,\n",
    "     title=\"Micro-optimizations matter for BLAS1\")\n",
    "plot!(ns,noalloc,label=\".=\")"
   ]
  },
  {
   "cell_type": "markdown",
   "metadata": {},
   "source": [
    "As shown in the above graph, .= is faster! Use it whenever possible. "
   ]
  },
  {
   "cell_type": "code",
   "execution_count": 36,
   "metadata": {},
   "outputs": [
    {
     "data": {
      "image/svg+xml": [
       "<?xml version=\"1.0\" encoding=\"utf-8\"?>\n",
       "<svg xmlns=\"http://www.w3.org/2000/svg\" xmlns:xlink=\"http://www.w3.org/1999/xlink\" width=\"600\" height=\"400\" viewBox=\"0 0 2400 1600\">\n",
       "<defs>\n",
       "  <clipPath id=\"clip9500\">\n",
       "    <rect x=\"0\" y=\"0\" width=\"2400\" height=\"1600\"/>\n",
       "  </clipPath>\n",
       "</defs>\n",
       "<path clip-path=\"url(#clip9500)\" d=\"\n",
       "M0 1600 L2400 1600 L2400 0 L0 0  Z\n",
       "  \" fill=\"#ffffff\" fill-rule=\"evenodd\" fill-opacity=\"1\"/>\n",
       "<defs>\n",
       "  <clipPath id=\"clip9501\">\n",
       "    <rect x=\"480\" y=\"0\" width=\"1681\" height=\"1600\"/>\n",
       "  </clipPath>\n",
       "</defs>\n",
       "<path clip-path=\"url(#clip9500)\" d=\"\n",
       "M258.107 1487.47 L2352.76 1487.47 L2352.76 121.675 L258.107 121.675  Z\n",
       "  \" fill=\"#ffffff\" fill-rule=\"evenodd\" fill-opacity=\"1\"/>\n",
       "<defs>\n",
       "  <clipPath id=\"clip9502\">\n",
       "    <rect x=\"258\" y=\"121\" width=\"2096\" height=\"1367\"/>\n",
       "  </clipPath>\n",
       "</defs>\n",
       "<polyline clip-path=\"url(#clip9502)\" style=\"stroke:#000000; stroke-width:2; stroke-opacity:0.1; fill:none\" points=\"\n",
       "  511.618,1487.47 511.618,121.675 \n",
       "  \"/>\n",
       "<polyline clip-path=\"url(#clip9502)\" style=\"stroke:#000000; stroke-width:2; stroke-opacity:0.1; fill:none\" points=\"\n",
       "  839.838,1487.47 839.838,121.675 \n",
       "  \"/>\n",
       "<polyline clip-path=\"url(#clip9502)\" style=\"stroke:#000000; stroke-width:2; stroke-opacity:0.1; fill:none\" points=\"\n",
       "  1168.06,1487.47 1168.06,121.675 \n",
       "  \"/>\n",
       "<polyline clip-path=\"url(#clip9502)\" style=\"stroke:#000000; stroke-width:2; stroke-opacity:0.1; fill:none\" points=\"\n",
       "  1496.28,1487.47 1496.28,121.675 \n",
       "  \"/>\n",
       "<polyline clip-path=\"url(#clip9502)\" style=\"stroke:#000000; stroke-width:2; stroke-opacity:0.1; fill:none\" points=\"\n",
       "  1824.5,1487.47 1824.5,121.675 \n",
       "  \"/>\n",
       "<polyline clip-path=\"url(#clip9502)\" style=\"stroke:#000000; stroke-width:2; stroke-opacity:0.1; fill:none\" points=\"\n",
       "  2152.72,1487.47 2152.72,121.675 \n",
       "  \"/>\n",
       "<polyline clip-path=\"url(#clip9502)\" style=\"stroke:#000000; stroke-width:2; stroke-opacity:0.1; fill:none\" points=\"\n",
       "  258.107,1340.66 2352.76,1340.66 \n",
       "  \"/>\n",
       "<polyline clip-path=\"url(#clip9502)\" style=\"stroke:#000000; stroke-width:2; stroke-opacity:0.1; fill:none\" points=\"\n",
       "  258.107,1099.16 2352.76,1099.16 \n",
       "  \"/>\n",
       "<polyline clip-path=\"url(#clip9502)\" style=\"stroke:#000000; stroke-width:2; stroke-opacity:0.1; fill:none\" points=\"\n",
       "  258.107,857.649 2352.76,857.649 \n",
       "  \"/>\n",
       "<polyline clip-path=\"url(#clip9502)\" style=\"stroke:#000000; stroke-width:2; stroke-opacity:0.1; fill:none\" points=\"\n",
       "  258.107,616.143 2352.76,616.143 \n",
       "  \"/>\n",
       "<polyline clip-path=\"url(#clip9502)\" style=\"stroke:#000000; stroke-width:2; stroke-opacity:0.1; fill:none\" points=\"\n",
       "  258.107,374.636 2352.76,374.636 \n",
       "  \"/>\n",
       "<polyline clip-path=\"url(#clip9502)\" style=\"stroke:#000000; stroke-width:2; stroke-opacity:0.1; fill:none\" points=\"\n",
       "  258.107,133.13 2352.76,133.13 \n",
       "  \"/>\n",
       "<polyline clip-path=\"url(#clip9500)\" style=\"stroke:#000000; stroke-width:4; stroke-opacity:1; fill:none\" points=\"\n",
       "  258.107,1487.47 2352.76,1487.47 \n",
       "  \"/>\n",
       "<polyline clip-path=\"url(#clip9500)\" style=\"stroke:#000000; stroke-width:4; stroke-opacity:1; fill:none\" points=\"\n",
       "  258.107,1487.47 258.107,121.675 \n",
       "  \"/>\n",
       "<polyline clip-path=\"url(#clip9500)\" style=\"stroke:#000000; stroke-width:4; stroke-opacity:1; fill:none\" points=\"\n",
       "  511.618,1487.47 511.618,1471.09 \n",
       "  \"/>\n",
       "<polyline clip-path=\"url(#clip9500)\" style=\"stroke:#000000; stroke-width:4; stroke-opacity:1; fill:none\" points=\"\n",
       "  839.838,1487.47 839.838,1471.09 \n",
       "  \"/>\n",
       "<polyline clip-path=\"url(#clip9500)\" style=\"stroke:#000000; stroke-width:4; stroke-opacity:1; fill:none\" points=\"\n",
       "  1168.06,1487.47 1168.06,1471.09 \n",
       "  \"/>\n",
       "<polyline clip-path=\"url(#clip9500)\" style=\"stroke:#000000; stroke-width:4; stroke-opacity:1; fill:none\" points=\"\n",
       "  1496.28,1487.47 1496.28,1471.09 \n",
       "  \"/>\n",
       "<polyline clip-path=\"url(#clip9500)\" style=\"stroke:#000000; stroke-width:4; stroke-opacity:1; fill:none\" points=\"\n",
       "  1824.5,1487.47 1824.5,1471.09 \n",
       "  \"/>\n",
       "<polyline clip-path=\"url(#clip9500)\" style=\"stroke:#000000; stroke-width:4; stroke-opacity:1; fill:none\" points=\"\n",
       "  2152.72,1487.47 2152.72,1471.09 \n",
       "  \"/>\n",
       "<polyline clip-path=\"url(#clip9500)\" style=\"stroke:#000000; stroke-width:4; stroke-opacity:1; fill:none\" points=\"\n",
       "  258.107,1340.66 283.243,1340.66 \n",
       "  \"/>\n",
       "<polyline clip-path=\"url(#clip9500)\" style=\"stroke:#000000; stroke-width:4; stroke-opacity:1; fill:none\" points=\"\n",
       "  258.107,1099.16 283.243,1099.16 \n",
       "  \"/>\n",
       "<polyline clip-path=\"url(#clip9500)\" style=\"stroke:#000000; stroke-width:4; stroke-opacity:1; fill:none\" points=\"\n",
       "  258.107,857.649 283.243,857.649 \n",
       "  \"/>\n",
       "<polyline clip-path=\"url(#clip9500)\" style=\"stroke:#000000; stroke-width:4; stroke-opacity:1; fill:none\" points=\"\n",
       "  258.107,616.143 283.243,616.143 \n",
       "  \"/>\n",
       "<polyline clip-path=\"url(#clip9500)\" style=\"stroke:#000000; stroke-width:4; stroke-opacity:1; fill:none\" points=\"\n",
       "  258.107,374.636 283.243,374.636 \n",
       "  \"/>\n",
       "<polyline clip-path=\"url(#clip9500)\" style=\"stroke:#000000; stroke-width:4; stroke-opacity:1; fill:none\" points=\"\n",
       "  258.107,133.13 283.243,133.13 \n",
       "  \"/>\n",
       "<g clip-path=\"url(#clip9500)\">\n",
       "<text style=\"fill:#000000; fill-opacity:1; font-family:Arial,Helvetica Neue,Helvetica,sans-serif; font-size:48px; text-anchor:start;\" transform=\"rotate(0, 446.803, 1562.48)\" x=\"446.803\" y=\"1562.48\">10</text>\n",
       "</g>\n",
       "<g clip-path=\"url(#clip9500)\">\n",
       "<text style=\"fill:#000000; fill-opacity:1; font-family:Arial,Helvetica Neue,Helvetica,sans-serif; font-size:38px; text-anchor:start;\" transform=\"rotate(0, 500.327, 1535.07)\" x=\"500.327\" y=\"1535.07\">0.75</text>\n",
       "</g>\n",
       "<g clip-path=\"url(#clip9500)\">\n",
       "<text style=\"fill:#000000; fill-opacity:1; font-family:Arial,Helvetica Neue,Helvetica,sans-serif; font-size:48px; text-anchor:start;\" transform=\"rotate(0, 775.023, 1562.48)\" x=\"775.023\" y=\"1562.48\">10</text>\n",
       "</g>\n",
       "<g clip-path=\"url(#clip9500)\">\n",
       "<text style=\"fill:#000000; fill-opacity:1; font-family:Arial,Helvetica Neue,Helvetica,sans-serif; font-size:38px; text-anchor:start;\" transform=\"rotate(0, 828.548, 1535.07)\" x=\"828.548\" y=\"1535.07\">1.00</text>\n",
       "</g>\n",
       "<g clip-path=\"url(#clip9500)\">\n",
       "<text style=\"fill:#000000; fill-opacity:1; font-family:Arial,Helvetica Neue,Helvetica,sans-serif; font-size:48px; text-anchor:start;\" transform=\"rotate(0, 1103.24, 1562.48)\" x=\"1103.24\" y=\"1562.48\">10</text>\n",
       "</g>\n",
       "<g clip-path=\"url(#clip9500)\">\n",
       "<text style=\"fill:#000000; fill-opacity:1; font-family:Arial,Helvetica Neue,Helvetica,sans-serif; font-size:38px; text-anchor:start;\" transform=\"rotate(0, 1156.77, 1535.07)\" x=\"1156.77\" y=\"1535.07\">1.25</text>\n",
       "</g>\n",
       "<g clip-path=\"url(#clip9500)\">\n",
       "<text style=\"fill:#000000; fill-opacity:1; font-family:Arial,Helvetica Neue,Helvetica,sans-serif; font-size:48px; text-anchor:start;\" transform=\"rotate(0, 1431.46, 1562.48)\" x=\"1431.46\" y=\"1562.48\">10</text>\n",
       "</g>\n",
       "<g clip-path=\"url(#clip9500)\">\n",
       "<text style=\"fill:#000000; fill-opacity:1; font-family:Arial,Helvetica Neue,Helvetica,sans-serif; font-size:38px; text-anchor:start;\" transform=\"rotate(0, 1484.99, 1535.07)\" x=\"1484.99\" y=\"1535.07\">1.50</text>\n",
       "</g>\n",
       "<g clip-path=\"url(#clip9500)\">\n",
       "<text style=\"fill:#000000; fill-opacity:1; font-family:Arial,Helvetica Neue,Helvetica,sans-serif; font-size:48px; text-anchor:start;\" transform=\"rotate(0, 1759.68, 1562.48)\" x=\"1759.68\" y=\"1562.48\">10</text>\n",
       "</g>\n",
       "<g clip-path=\"url(#clip9500)\">\n",
       "<text style=\"fill:#000000; fill-opacity:1; font-family:Arial,Helvetica Neue,Helvetica,sans-serif; font-size:38px; text-anchor:start;\" transform=\"rotate(0, 1813.21, 1535.07)\" x=\"1813.21\" y=\"1535.07\">1.75</text>\n",
       "</g>\n",
       "<g clip-path=\"url(#clip9500)\">\n",
       "<text style=\"fill:#000000; fill-opacity:1; font-family:Arial,Helvetica Neue,Helvetica,sans-serif; font-size:48px; text-anchor:start;\" transform=\"rotate(0, 2087.9, 1562.48)\" x=\"2087.9\" y=\"1562.48\">10</text>\n",
       "</g>\n",
       "<g clip-path=\"url(#clip9500)\">\n",
       "<text style=\"fill:#000000; fill-opacity:1; font-family:Arial,Helvetica Neue,Helvetica,sans-serif; font-size:38px; text-anchor:start;\" transform=\"rotate(0, 2141.43, 1535.07)\" x=\"2141.43\" y=\"1535.07\">2.00</text>\n",
       "</g>\n",
       "<g clip-path=\"url(#clip9500)\">\n",
       "<text style=\"fill:#000000; fill-opacity:1; font-family:Arial,Helvetica Neue,Helvetica,sans-serif; font-size:48px; text-anchor:start;\" transform=\"rotate(0, 103.382, 1364.39)\" x=\"103.382\" y=\"1364.39\">10</text>\n",
       "</g>\n",
       "<g clip-path=\"url(#clip9500)\">\n",
       "<text style=\"fill:#000000; fill-opacity:1; font-family:Arial,Helvetica Neue,Helvetica,sans-serif; font-size:38px; text-anchor:start;\" transform=\"rotate(0, 156.907, 1336.98)\" x=\"156.907\" y=\"1336.98\">-</text>\n",
       "</g>\n",
       "<g clip-path=\"url(#clip9500)\">\n",
       "<text style=\"fill:#000000; fill-opacity:1; font-family:Arial,Helvetica Neue,Helvetica,sans-serif; font-size:38px; text-anchor:start;\" transform=\"rotate(0, 179.746, 1336.98)\" x=\"179.746\" y=\"1336.98\">6.5</text>\n",
       "</g>\n",
       "<g clip-path=\"url(#clip9500)\">\n",
       "<text style=\"fill:#000000; fill-opacity:1; font-family:Arial,Helvetica Neue,Helvetica,sans-serif; font-size:48px; text-anchor:start;\" transform=\"rotate(0, 103.382, 1122.88)\" x=\"103.382\" y=\"1122.88\">10</text>\n",
       "</g>\n",
       "<g clip-path=\"url(#clip9500)\">\n",
       "<text style=\"fill:#000000; fill-opacity:1; font-family:Arial,Helvetica Neue,Helvetica,sans-serif; font-size:38px; text-anchor:start;\" transform=\"rotate(0, 156.907, 1095.47)\" x=\"156.907\" y=\"1095.47\">-</text>\n",
       "</g>\n",
       "<g clip-path=\"url(#clip9500)\">\n",
       "<text style=\"fill:#000000; fill-opacity:1; font-family:Arial,Helvetica Neue,Helvetica,sans-serif; font-size:38px; text-anchor:start;\" transform=\"rotate(0, 179.746, 1095.47)\" x=\"179.746\" y=\"1095.47\">6.0</text>\n",
       "</g>\n",
       "<g clip-path=\"url(#clip9500)\">\n",
       "<text style=\"fill:#000000; fill-opacity:1; font-family:Arial,Helvetica Neue,Helvetica,sans-serif; font-size:48px; text-anchor:start;\" transform=\"rotate(0, 103.382, 881.377)\" x=\"103.382\" y=\"881.377\">10</text>\n",
       "</g>\n",
       "<g clip-path=\"url(#clip9500)\">\n",
       "<text style=\"fill:#000000; fill-opacity:1; font-family:Arial,Helvetica Neue,Helvetica,sans-serif; font-size:38px; text-anchor:start;\" transform=\"rotate(0, 156.907, 853.966)\" x=\"156.907\" y=\"853.966\">-</text>\n",
       "</g>\n",
       "<g clip-path=\"url(#clip9500)\">\n",
       "<text style=\"fill:#000000; fill-opacity:1; font-family:Arial,Helvetica Neue,Helvetica,sans-serif; font-size:38px; text-anchor:start;\" transform=\"rotate(0, 179.746, 853.966)\" x=\"179.746\" y=\"853.966\">5.5</text>\n",
       "</g>\n",
       "<g clip-path=\"url(#clip9500)\">\n",
       "<text style=\"fill:#000000; fill-opacity:1; font-family:Arial,Helvetica Neue,Helvetica,sans-serif; font-size:48px; text-anchor:start;\" transform=\"rotate(0, 103.382, 639.87)\" x=\"103.382\" y=\"639.87\">10</text>\n",
       "</g>\n",
       "<g clip-path=\"url(#clip9500)\">\n",
       "<text style=\"fill:#000000; fill-opacity:1; font-family:Arial,Helvetica Neue,Helvetica,sans-serif; font-size:38px; text-anchor:start;\" transform=\"rotate(0, 156.907, 612.46)\" x=\"156.907\" y=\"612.46\">-</text>\n",
       "</g>\n",
       "<g clip-path=\"url(#clip9500)\">\n",
       "<text style=\"fill:#000000; fill-opacity:1; font-family:Arial,Helvetica Neue,Helvetica,sans-serif; font-size:38px; text-anchor:start;\" transform=\"rotate(0, 179.746, 612.46)\" x=\"179.746\" y=\"612.46\">5.0</text>\n",
       "</g>\n",
       "<g clip-path=\"url(#clip9500)\">\n",
       "<text style=\"fill:#000000; fill-opacity:1; font-family:Arial,Helvetica Neue,Helvetica,sans-serif; font-size:48px; text-anchor:start;\" transform=\"rotate(0, 103.382, 398.364)\" x=\"103.382\" y=\"398.364\">10</text>\n",
       "</g>\n",
       "<g clip-path=\"url(#clip9500)\">\n",
       "<text style=\"fill:#000000; fill-opacity:1; font-family:Arial,Helvetica Neue,Helvetica,sans-serif; font-size:38px; text-anchor:start;\" transform=\"rotate(0, 156.907, 370.954)\" x=\"156.907\" y=\"370.954\">-</text>\n",
       "</g>\n",
       "<g clip-path=\"url(#clip9500)\">\n",
       "<text style=\"fill:#000000; fill-opacity:1; font-family:Arial,Helvetica Neue,Helvetica,sans-serif; font-size:38px; text-anchor:start;\" transform=\"rotate(0, 179.746, 370.954)\" x=\"179.746\" y=\"370.954\">4.5</text>\n",
       "</g>\n",
       "<g clip-path=\"url(#clip9500)\">\n",
       "<text style=\"fill:#000000; fill-opacity:1; font-family:Arial,Helvetica Neue,Helvetica,sans-serif; font-size:48px; text-anchor:start;\" transform=\"rotate(0, 103.382, 156.858)\" x=\"103.382\" y=\"156.858\">10</text>\n",
       "</g>\n",
       "<g clip-path=\"url(#clip9500)\">\n",
       "<text style=\"fill:#000000; fill-opacity:1; font-family:Arial,Helvetica Neue,Helvetica,sans-serif; font-size:38px; text-anchor:start;\" transform=\"rotate(0, 156.907, 129.447)\" x=\"156.907\" y=\"129.447\">-</text>\n",
       "</g>\n",
       "<g clip-path=\"url(#clip9500)\">\n",
       "<text style=\"fill:#000000; fill-opacity:1; font-family:Arial,Helvetica Neue,Helvetica,sans-serif; font-size:38px; text-anchor:start;\" transform=\"rotate(0, 179.746, 129.447)\" x=\"179.746\" y=\"129.447\">4.0</text>\n",
       "</g>\n",
       "<g clip-path=\"url(#clip9500)\">\n",
       "<text style=\"fill:#000000; fill-opacity:1; font-family:Arial,Helvetica Neue,Helvetica,sans-serif; font-size:84px; text-anchor:middle;\" transform=\"rotate(0, 1305.43, 73.2)\" x=\"1305.43\" y=\"73.2\">Micro-optimizations only matter for small matmuls</text>\n",
       "</g>\n",
       "<polyline clip-path=\"url(#clip9502)\" style=\"stroke:#009af9; stroke-width:4; stroke-opacity:1; fill:none\" points=\"\n",
       "  317.39,1412.05 712.607,1347.19 1107.82,1128.83 1503.04,820.303 1898.26,459.451 2293.47,160.33 \n",
       "  \"/>\n",
       "<polyline clip-path=\"url(#clip9502)\" style=\"stroke:#e26f46; stroke-width:4; stroke-opacity:1; fill:none\" points=\"\n",
       "  317.39,1448.82 712.607,1386.18 1107.82,1206.71 1503.04,864.652 1898.26,472.892 2293.47,175.223 \n",
       "  \"/>\n",
       "<path clip-path=\"url(#clip9500)\" d=\"\n",
       "M1949.83 1343.47 L2280.76 1343.47 L2280.76 1162.03 L1949.83 1162.03  Z\n",
       "  \" fill=\"#ffffff\" fill-rule=\"evenodd\" fill-opacity=\"1\"/>\n",
       "<polyline clip-path=\"url(#clip9500)\" style=\"stroke:#000000; stroke-width:4; stroke-opacity:1; fill:none\" points=\"\n",
       "  1949.83,1343.47 2280.76,1343.47 2280.76,1162.03 1949.83,1162.03 1949.83,1343.47 \n",
       "  \"/>\n",
       "<polyline clip-path=\"url(#clip9500)\" style=\"stroke:#009af9; stroke-width:4; stroke-opacity:1; fill:none\" points=\"\n",
       "  1973.83,1222.51 2117.83,1222.51 \n",
       "  \"/>\n",
       "<g clip-path=\"url(#clip9500)\">\n",
       "<text style=\"fill:#000000; fill-opacity:1; font-family:Arial,Helvetica Neue,Helvetica,sans-serif; font-size:48px; text-anchor:start;\" transform=\"rotate(0, 2141.83, 1240.01)\" x=\"2141.83\" y=\"1240.01\">*</text>\n",
       "</g>\n",
       "<polyline clip-path=\"url(#clip9500)\" style=\"stroke:#e26f46; stroke-width:4; stroke-opacity:1; fill:none\" points=\"\n",
       "  1973.83,1282.99 2117.83,1282.99 \n",
       "  \"/>\n",
       "<g clip-path=\"url(#clip9500)\">\n",
       "<text style=\"fill:#000000; fill-opacity:1; font-family:Arial,Helvetica Neue,Helvetica,sans-serif; font-size:48px; text-anchor:start;\" transform=\"rotate(0, 2141.83, 1300.49)\" x=\"2141.83\" y=\"1300.49\">mul!</text>\n",
       "</g>\n",
       "</svg>\n"
      ]
     },
     "execution_count": 36,
     "metadata": {},
     "output_type": "execute_result"
    }
   ],
   "source": [
    "using LinearAlgebra, BenchmarkTools\n",
    "function alloc_timer(n)\n",
    "    A = rand(n,n)\n",
    "    B = rand(n,n)\n",
    "    C = rand(n,n)\n",
    "    t1 = @belapsed $A*$B\n",
    "    t2 = @belapsed mul!($C,$A,$B)\n",
    "    t1,t2\n",
    "end\n",
    "ns = 2 .^ (2:7)\n",
    "res = [alloc_timer(n) for n in ns]\n",
    "alloc   = [x[1] for x in res]\n",
    "noalloc = [x[2] for x in res]\n",
    "\n",
    "using Plots\n",
    "plot(ns,alloc,label=\"*\",xscale=:log10,yscale=:log10,legend=:bottomright,\n",
    "     title=\"Micro-optimizations only matter for small matmuls\")\n",
    "plot!(ns,noalloc,label=\"mul!\")"
   ]
  },
  {
   "cell_type": "markdown",
   "metadata": {},
   "source": [
    "mul! is faster!!!\n",
    "# Optimizing memory use summary:\n",
    "1. Avoid cache misses by reusing variables\n",
    "2. Iterate along columns\n",
    "3. Avoid heap allocations within inner loops\n",
    "4. Heap allocations occur when the size cannot be proven at compile time (arrays)\n",
    "5. Use fused broadcasts to avoid heap allocations\n",
    "6. Use @view whenever necessary to avoid allocating\n",
    "7. Use staticarrays.jl to avoid heap allocations of small arrays"
   ]
  },
  {
   "cell_type": "markdown",
   "metadata": {},
   "source": [
    "# Julia's type inference and compiler\n",
    "Julia is fast because of the two ideas:\n",
    "1. Type inference\n",
    "2. Specialization in functions\n",
    "\n",
    "Everything has a type. One can't compute without a type because then the computer doesn't know the memory or how it's stored.\n",
    "In C++, you declare types:\n",
    "\n",
    "double *a\n",
    "\n",
    "In interpreted languages like python, types are checked at runtime. We don't have to explicetly tell the compiler what it is\n",
    "\n",
    "a = 2\n",
    "b = 4 \n",
    "a+b\n",
    "\n",
    "When the add function is called in python, the interpreter much check the object holding the values of a and b and ask for the types. Thus the python add function is complicated because it needs a version to decode and have a version for all primitive types. Thus there is a runtime overhead checks in function calls due to not being explicit about types, but there is also memory overhead since it is impossible to know how much memory a value will take since that's a property of its type. Thus every variable ends up being heap-allocated\n",
    "\n",
    "The julia solution is a hybrid of the two, the code looks the same as python. But before compilation, julia runs a type inference alogirthm which finds out that A and B are Ints. Then a+b should be an int. Sooo we can stack allocate things now.\n",
    "\n",
    "# Type Specializations in Functions\n",
    "Julia can propogate type inference through functions because even though functions are untypes, julia will interpet this as a generic functoin, over possible methods, where every method has a concrete type. You can see this in:"
   ]
  },
  {
   "cell_type": "code",
   "execution_count": 39,
   "metadata": {},
   "outputs": [
    {
     "data": {
      "text/plain": [
       "f (generic function with 1 method)"
      ]
     },
     "execution_count": 39,
     "metadata": {},
     "output_type": "execute_result"
    }
   ],
   "source": [
    "f(x,y) = x+y"
   ]
  },
  {
   "cell_type": "code",
   "execution_count": 42,
   "metadata": {},
   "outputs": [
    {
     "name": "stdout",
     "output_type": "stream",
     "text": [
      "\n",
      ";  @ In[39]:1 within `f'\n",
      "define i64 @julia_f_20223(i64, i64) {\n",
      "top:\n",
      "; ┌ @ int.jl:53 within `+'\n",
      "   %2 = add i64 %1, %0\n",
      "; └\n",
      "  ret i64 %2\n",
      "}\n"
     ]
    }
   ],
   "source": [
    "using InteractiveUtils\n",
    "#LLVM is julia's compiler\n",
    "@code_llvm f(2,5)"
   ]
  },
  {
   "cell_type": "code",
   "execution_count": 43,
   "metadata": {},
   "outputs": [
    {
     "name": "stdout",
     "output_type": "stream",
     "text": [
      "\n",
      ";  @ In[39]:1 within `f'\n",
      "define double @julia_f_20224(double, double) {\n",
      "top:\n",
      "; ┌ @ float.jl:401 within `+'\n",
      "   %2 = fadd double %0, %1\n",
      "; └\n",
      "  ret double %2\n",
      "}\n"
     ]
    }
   ],
   "source": [
    "@code_llvm f(2.0,5.0)"
   ]
  },
  {
   "cell_type": "code",
   "execution_count": 45,
   "metadata": {},
   "outputs": [
    {
     "name": "stdout",
     "output_type": "stream",
     "text": [
      "\n",
      ";  @ In[45]:2 within `g'\n",
      "define i64 @julia_g_20226(i64, i64) {\n",
      "top:\n",
      ";  @ In[45]:5 within `g'\n",
      "; ┌ @ In[39]:1 within `f'\n",
      "; │┌ @ int.jl:53 within `+'\n",
      "    %2 = add i64 %0, 6\n",
      "; └└\n",
      ";  @ In[45]:6 within `g'\n",
      "; ┌ @ In[39]:1 within `f'\n",
      "; │┌ @ int.jl:53 within `+'\n",
      "    %3 = add i64 %2, %1\n",
      "; └└\n",
      "  ret i64 %3\n",
      "}\n"
     ]
    }
   ],
   "source": [
    "function g(x,y)\n",
    "  a = 4\n",
    "  b = 2\n",
    "  c = f(x,a)\n",
    "  d = f(b,c)\n",
    "  f(d,y)\n",
    "end\n",
    "\n",
    "@code_llvm g(2,5)\n",
    "#g inputs two ints, and spits out ints from f as well! As expected"
   ]
  },
  {
   "cell_type": "code",
   "execution_count": 47,
   "metadata": {},
   "outputs": [
    {
     "name": "stdout",
     "output_type": "stream",
     "text": [
      "Variables\n",
      "  #self#\u001b[36m::Core.Compiler.Const(g, false)\u001b[39m\n",
      "  x\u001b[36m::Int64\u001b[39m\n",
      "  y\u001b[36m::Int64\u001b[39m\n",
      "  a\u001b[36m::Int64\u001b[39m\n",
      "  b\u001b[36m::Int64\u001b[39m\n",
      "  c\u001b[36m::Int64\u001b[39m\n",
      "  d\u001b[36m::Int64\u001b[39m\n",
      "\n",
      "Body\u001b[36m::Int64\u001b[39m\n",
      "\u001b[90m1 ─\u001b[39m      (a = 4)\n",
      "\u001b[90m│  \u001b[39m      (b = 2)\n",
      "\u001b[90m│  \u001b[39m      (c = Main.f(x, a::Core.Compiler.Const(4, false)))\n",
      "\u001b[90m│  \u001b[39m      (d = Main.f(b::Core.Compiler.Const(2, false), c))\n",
      "\u001b[90m│  \u001b[39m %5 = Main.f(d, y)\u001b[36m::Int64\u001b[39m\n",
      "\u001b[90m└──\u001b[39m      return %5\n"
     ]
    }
   ],
   "source": [
    "#this behavior can be seen more clearly :\n",
    "@code_warntype g(2,5)"
   ]
  },
  {
   "cell_type": "code",
   "execution_count": 48,
   "metadata": {},
   "outputs": [
    {
     "name": "stdout",
     "output_type": "stream",
     "text": [
      "\n",
      ";  @ In[45]:2 within `g'\n",
      "define double @julia_g_20351(double, i64) {\n",
      "top:\n",
      ";  @ In[45]:4 within `g'\n",
      "; ┌ @ In[39]:1 within `f'\n",
      "; │┌ @ promotion.jl:311 within `+' @ float.jl:401\n",
      "    %2 = fadd double %0, 4.000000e+00\n",
      "; └└\n",
      ";  @ In[45]:5 within `g'\n",
      "; ┌ @ In[39]:1 within `f'\n",
      "; │┌ @ promotion.jl:311 within `+' @ float.jl:401\n",
      "    %3 = fadd double %2, 2.000000e+00\n",
      "; └└\n",
      ";  @ In[45]:6 within `g'\n",
      "; ┌ @ In[39]:1 within `f'\n",
      "; │┌ @ promotion.jl:311 within `+'\n",
      "; ││┌ @ promotion.jl:282 within `promote'\n",
      "; │││┌ @ promotion.jl:259 within `_promote'\n",
      "; ││││┌ @ number.jl:7 within `convert'\n",
      "; │││││┌ @ float.jl:60 within `Float64'\n",
      "        %4 = sitofp i64 %1 to double\n",
      "; ││└└└└\n",
      "; ││ @ promotion.jl:311 within `+' @ float.jl:401\n",
      "    %5 = fadd double %3, %4\n",
      "; └└\n",
      "  ret double %5\n",
      "}\n"
     ]
    }
   ],
   "source": [
    "#what about a mixture? int + a double should be a double...\n",
    "@code_llvm g(2.0,5)"
   ]
  },
  {
   "cell_type": "markdown",
   "metadata": {},
   "source": [
    "# Multiple Dispactch:\n",
    "In julia you can tell a function how to act based on what types are inputted to it. "
   ]
  },
  {
   "cell_type": "code",
   "execution_count": 50,
   "metadata": {},
   "outputs": [
    {
     "data": {
      "text/plain": [
       "ff (generic function with 2 methods)"
      ]
     },
     "execution_count": 50,
     "metadata": {},
     "output_type": "execute_result"
    }
   ],
   "source": [
    "ff(x::Int, y::Int) = x+y\n",
    "ff(x::Float64, y::Float64) = \"FLOATS!!!!\""
   ]
  },
  {
   "cell_type": "code",
   "execution_count": 51,
   "metadata": {},
   "outputs": [
    {
     "data": {
      "text/plain": [
       "5"
      ]
     },
     "execution_count": 51,
     "metadata": {},
     "output_type": "execute_result"
    }
   ],
   "source": [
    "ff(2,3)"
   ]
  },
  {
   "cell_type": "code",
   "execution_count": 52,
   "metadata": {},
   "outputs": [
    {
     "data": {
      "text/plain": [
       "\"FLOATS!!!!\""
      ]
     },
     "execution_count": 52,
     "metadata": {},
     "output_type": "execute_result"
    }
   ],
   "source": [
    "ff(2.0,3.0)"
   ]
  },
  {
   "cell_type": "code",
   "execution_count": 53,
   "metadata": {},
   "outputs": [
    {
     "data": {
      "text/html": [
       "+(x::<b>Number</b>, y::<b>Number</b>) in Base at <a href=\"https://github.com/JuliaLang/julia/tree/2d5741174ce3e6a394010d2e470e4269ca54607f/base/promotion.jl#L311\" target=\"_blank\">promotion.jl:311</a>"
      ],
      "text/plain": [
       "+(x::Number, y::Number) in Base at promotion.jl:311"
      ]
     },
     "execution_count": 53,
     "metadata": {},
     "output_type": "execute_result"
    }
   ],
   "source": [
    "@which +(2.0,5)"
   ]
  },
  {
   "cell_type": "code",
   "execution_count": 54,
   "metadata": {},
   "outputs": [
    {
     "data": {
      "text/plain": [
       "7"
      ]
     },
     "execution_count": 54,
     "metadata": {},
     "output_type": "execute_result"
    }
   ],
   "source": [
    "+(3,4)"
   ]
  },
  {
   "cell_type": "code",
   "execution_count": 3,
   "metadata": {},
   "outputs": [
    {
     "data": {
      "text/plain": [
       "g (generic function with 1 method)"
      ]
     },
     "execution_count": 3,
     "metadata": {},
     "output_type": "execute_result"
    }
   ],
   "source": [
    "f(x,y) = x+y\n",
    "#is equivalent to\n",
    "g(x::Any, y::Any) = x+y\n",
    "#where ::Any is the maximal subtype in Julia"
   ]
  },
  {
   "cell_type": "code",
   "execution_count": 7,
   "metadata": {},
   "outputs": [
    {
     "name": "stdout",
     "output_type": "stream",
     "text": [
      "\n",
      ";  @ In[3]:3 within `g'\n",
      "define i64 @julia_g_17518(i64, i64) {\n",
      "top:\n",
      "; ┌ @ int.jl:53 within `+'\n",
      "   %2 = add i64 %1, %0\n",
      "; └\n",
      "  ret i64 %2\n",
      "}\n"
     ]
    }
   ],
   "source": [
    "@code_llvm g(3,4)"
   ]
  },
  {
   "cell_type": "code",
   "execution_count": 5,
   "metadata": {},
   "outputs": [
    {
     "name": "stdout",
     "output_type": "stream",
     "text": [
      "\n",
      ";  @ In[3]:1 within `f'\n",
      "define i64 @julia_f_17467(i64, i64) {\n",
      "top:\n",
      "; ┌ @ int.jl:53 within `+'\n",
      "   %2 = add i64 %1, %0\n",
      "; └\n",
      "  ret i64 %2\n",
      "}\n"
     ]
    }
   ],
   "source": [
    "@code_llvm f(3,4)"
   ]
  },
  {
   "cell_type": "markdown",
   "metadata": {},
   "source": [
    "# Untyped Containers\n",
    "- One way to ruin inference is to use an untyped container. For example, array constructors use type inference themselves to know what their container type will be..."
   ]
  },
  {
   "cell_type": "code",
   "execution_count": 9,
   "metadata": {},
   "outputs": [
    {
     "data": {
      "text/plain": [
       "3-element Array{Float64,1}:\n",
       " 1.0\n",
       " 2.0\n",
       " 3.0"
      ]
     },
     "execution_count": 9,
     "metadata": {},
     "output_type": "execute_result"
    }
   ],
   "source": [
    "a = [1.0,2.0,3.0]\n",
    "#used type inferecne to see that we are inputting Float64s, so now its' a float64 contiainer."
   ]
  },
  {
   "cell_type": "code",
   "execution_count": 15,
   "metadata": {},
   "outputs": [
    {
     "data": {
      "text/plain": [
       "Float64"
      ]
     },
     "execution_count": 15,
     "metadata": {},
     "output_type": "execute_result"
    }
   ],
   "source": [
    "append!(a,4)\n",
    "#even if we add an int...\n",
    "typeof(a[4])"
   ]
  },
  {
   "cell_type": "markdown",
   "metadata": {},
   "source": [
    "a[1] is just the function, getindex(a::Array{T}, i) where T is a function that will produce something of type T. We can also make an any type array."
   ]
  },
  {
   "cell_type": "code",
   "execution_count": 17,
   "metadata": {},
   "outputs": [
    {
     "data": {
      "text/plain": [
       "3-element Array{Any,1}:\n",
       " 3.0   \n",
       " 4     \n",
       "  \"5.0\""
      ]
     },
     "execution_count": 17,
     "metadata": {},
     "output_type": "execute_result"
    }
   ],
   "source": [
    "b = [3.0, 4, \"5.0\"]"
   ]
  },
  {
   "cell_type": "code",
   "execution_count": 20,
   "metadata": {},
   "outputs": [
    {
     "name": "stdout",
     "output_type": "stream",
     "text": [
      "Variables\n",
      "  #self#\u001b[36m::Core.Compiler.Const(bad_container, false)\u001b[39m\n",
      "  a\u001b[36m::Array{Any,1}\u001b[39m\n",
      "\n",
      "Body\u001b[91m\u001b[1m::Any\u001b[22m\u001b[39m\n",
      "\u001b[90m1 ─\u001b[39m %1 = Base.getindex(a, 2)\u001b[91m\u001b[1m::Any\u001b[22m\u001b[39m\n",
      "\u001b[90m└──\u001b[39m      return %1\n"
     ]
    }
   ],
   "source": [
    "function bad_container(a)\n",
    "  a[2]\n",
    "end\n",
    "@code_warntype bad_container(b)\n",
    "#thus inference is broken! We can even break it with all numbers..."
   ]
  },
  {
   "cell_type": "code",
   "execution_count": 25,
   "metadata": {},
   "outputs": [
    {
     "name": "stdout",
     "output_type": "stream",
     "text": [
      "Variables\n",
      "  #self#\u001b[36m::Core.Compiler.Const(q, false)\u001b[39m\n",
      "  x\u001b[36m::Array{Number,1}\u001b[39m\n",
      "  a\u001b[36m::Int64\u001b[39m\n",
      "  b\u001b[36m::Int64\u001b[39m\n",
      "  c\u001b[91m\u001b[1m::Any\u001b[22m\u001b[39m\n",
      "  d\u001b[91m\u001b[1m::Any\u001b[22m\u001b[39m\n",
      "\n",
      "Body\u001b[91m\u001b[1m::Any\u001b[22m\u001b[39m\n",
      "\u001b[90m1 ─\u001b[39m      (a = 4)\n",
      "\u001b[90m│  \u001b[39m      (b = 2)\n",
      "\u001b[90m│  \u001b[39m %3 = Base.getindex(x, 1)\u001b[91m\u001b[1m::Number\u001b[22m\u001b[39m\n",
      "\u001b[90m│  \u001b[39m      (c = Main.f(%3, a::Core.Compiler.Const(4, false)))\n",
      "\u001b[90m│  \u001b[39m      (d = Main.f(b::Core.Compiler.Const(2, false), c))\n",
      "\u001b[90m│  \u001b[39m %6 = d\u001b[91m\u001b[1m::Any\u001b[22m\u001b[39m\n",
      "\u001b[90m│  \u001b[39m %7 = Base.getindex(x, 2)\u001b[91m\u001b[1m::Number\u001b[22m\u001b[39m\n",
      "\u001b[90m│  \u001b[39m %8 = Main.f(%6, %7)\u001b[91m\u001b[1m::Any\u001b[22m\u001b[39m\n",
      "\u001b[90m└──\u001b[39m      return %8\n"
     ]
    }
   ],
   "source": [
    "x = Number[1.0,3]\n",
    "function q(x)\n",
    "  a = 4\n",
    "  b = 2\n",
    "  c = f(x[1],a)\n",
    "  d = f(b,c)\n",
    "  f(d,x[2])\n",
    "end\n",
    "@code_warntype q(x)\n",
    "#inference is broken again... We have any variables. Thus when the inference is broken, \n",
    "#we switch to pythonstyle runtime checking which is SLOWWW"
   ]
  },
  {
   "cell_type": "markdown",
   "metadata": {},
   "source": [
    "# Type Definitions\n",
    "In Julia, types which can fully inferred and which are composed of primitive or isbits types are value types. This means that, inside an array, their values are the values of the type itself, and not a pointer to the values."
   ]
  },
  {
   "cell_type": "code",
   "execution_count": 26,
   "metadata": {},
   "outputs": [
    {
     "data": {
      "text/plain": [
       "true"
      ]
     },
     "execution_count": 26,
     "metadata": {},
     "output_type": "execute_result"
    }
   ],
   "source": [
    "isbits(1.0)"
   ]
  },
  {
   "cell_type": "markdown",
   "metadata": {},
   "source": [
    "A struct, that holds isbits balues is isbits as well"
   ]
  },
  {
   "cell_type": "code",
   "execution_count": 27,
   "metadata": {},
   "outputs": [
    {
     "data": {
      "text/plain": [
       "true"
      ]
     },
     "execution_count": 27,
     "metadata": {},
     "output_type": "execute_result"
    }
   ],
   "source": [
    "struct MyComplex\n",
    "  real::Float64\n",
    "  imag::Float64\n",
    "end\n",
    "isbits(MyComplex(1.0,1.0))"
   ]
  },
  {
   "cell_type": "markdown",
   "metadata": {},
   "source": [
    "We can see that the compiler knows how to use htis struct efficiently since it knows that what comes out will always be a Float64"
   ]
  },
  {
   "cell_type": "code",
   "execution_count": 35,
   "metadata": {},
   "outputs": [
    {
     "name": "stdout",
     "output_type": "stream",
     "text": [
      "Variables\n",
      "  #self#\u001b[36m::Core.Compiler.Const(g, false)\u001b[39m\n",
      "  x\u001b[36m::MyComplex\u001b[39m\n",
      "  y\u001b[36m::MyComplex\u001b[39m\n",
      "\n",
      "Body\u001b[36m::MyComplex\u001b[39m\n",
      "\u001b[90m1 ─\u001b[39m %1 = (x + y)\u001b[36m::MyComplex\u001b[39m\n",
      "\u001b[90m└──\u001b[39m      return %1\n"
     ]
    }
   ],
   "source": [
    "Base.:+(a::MyComplex,b::MyComplex) = MyComplex(a.real+b.real,a.imag+b.imag)\n",
    "Base.:+(a::MyComplex,b::Int) = MyComplex(a.real+b,a.imag)\n",
    "Base.:+(b::Int,a::MyComplex) = MyComplex(a.real+b,a.imag)\n",
    "g(MyComplex(1.0,1.0),MyComplex(1.0,1.0))\n",
    "@code_warntype g(MyComplex(1.0,1.0),MyComplex(1.0,1.0))\n"
   ]
  },
  {
   "cell_type": "code",
   "execution_count": 36,
   "metadata": {},
   "outputs": [
    {
     "name": "stdout",
     "output_type": "stream",
     "text": [
      "\n",
      ";  @ In[3]:3 within `g'\n",
      "define void @julia_g_17932({ double, double }* noalias nocapture sret, { double, double } addrspace(11)* nocapture nonnull readonly dereferenceable(16), { double, double } addrspace(11)* nocapture nonnull readonly dereferenceable(16)) {\n",
      "top:\n",
      "; ┌ @ In[35]:1 within `+' @ float.jl:401\n",
      "   %3 = bitcast { double, double } addrspace(11)* %1 to <2 x double> addrspace(11)*\n",
      "   %4 = load <2 x double>, <2 x double> addrspace(11)* %3, align 8\n",
      "   %5 = bitcast { double, double } addrspace(11)* %2 to <2 x double> addrspace(11)*\n",
      "   %6 = load <2 x double>, <2 x double> addrspace(11)* %5, align 8\n",
      "   %7 = fadd <2 x double> %4, %6\n",
      "; └\n",
      "  %8 = bitcast { double, double }* %0 to <2 x double>*\n",
      "  store <2 x double> %7, <2 x double>* %8, align 8\n",
      "  ret void\n",
      "}\n"
     ]
    }
   ],
   "source": [
    "@code_llvm g(MyComplex(1.0,1.0),MyComplex(1.0,1.0))\n",
    "\n"
   ]
  },
  {
   "cell_type": "code",
   "execution_count": null,
   "metadata": {},
   "outputs": [],
   "source": [
    "struct MyParameterizedComplex{T}\n",
    "  real::T\n",
    "  imag::T\n",
    "end\n",
    "isbits(MyParameterizedComplex(1.0,1.0))"
   ]
  },
  {
   "cell_type": "markdown",
   "metadata": {},
   "source": [
    "{T} is a concree type for every T, type. It is a shorthand form for defining a whole famiily of types."
   ]
  },
  {
   "cell_type": "markdown",
   "metadata": {},
   "source": [
    "# Function Barriers\n",
    "Since functions automatically specialize on their input types in Julia, we can use this to our advantage in order to make an inner loop fully inferred. Example:\n",
    "\n",
    "I don't understand this at all? Why is it faster..."
   ]
  },
  {
   "cell_type": "code",
   "execution_count": 42,
   "metadata": {},
   "outputs": [
    {
     "name": "stdout",
     "output_type": "stream",
     "text": [
      "  6.701 μs (300 allocations: 4.69 KiB)\n"
     ]
    },
    {
     "data": {
      "text/plain": [
       "604.0"
      ]
     },
     "execution_count": 42,
     "metadata": {},
     "output_type": "execute_result"
    }
   ],
   "source": [
    "#Here the loop variables are not inferred. \n",
    "function r(x)\n",
    "  a = 4\n",
    "  b = 2\n",
    "  for i in 1:100\n",
    "    c = f(x[1],a)\n",
    "    d = f(b,c)\n",
    "    a = f(d,x[2])\n",
    "  end\n",
    "  a\n",
    "end\n",
    "@btime r(x)"
   ]
  },
  {
   "cell_type": "code",
   "execution_count": 46,
   "metadata": {},
   "outputs": [
    {
     "name": "stdout",
     "output_type": "stream",
     "text": [
      "  300.880 ns (1 allocation: 16 bytes)\n"
     ]
    },
    {
     "data": {
      "text/plain": [
       "604.0"
      ]
     },
     "execution_count": 46,
     "metadata": {},
     "output_type": "execute_result"
    }
   ],
   "source": [
    "#Here we force a function call in the middle to end up with specialization and in the intner loop to be stable\n",
    "s(x) = _s(x[1],x[2]) # how does this even work.\n",
    "function _s(x1,x2)\n",
    "  a = 4\n",
    "  b = 2\n",
    "  for i in 1:100\n",
    "    c = f(x1,a)\n",
    "    d = f(b,c)\n",
    "    a = f(d,x2)\n",
    "  end\n",
    "  a\n",
    "end\n",
    "@btime s(x)"
   ]
  },
  {
   "cell_type": "code",
   "execution_count": null,
   "metadata": {},
   "outputs": [],
   "source": []
  },
  {
   "cell_type": "code",
   "execution_count": null,
   "metadata": {},
   "outputs": [],
   "source": []
  }
 ],
 "metadata": {
  "kernelspec": {
   "display_name": "Julia 1.3.1",
   "language": "julia",
   "name": "julia-1.3"
  },
  "language_info": {
   "file_extension": ".jl",
   "mimetype": "application/julia",
   "name": "julia",
   "version": "1.3.1"
  }
 },
 "nbformat": 4,
 "nbformat_minor": 2
}
