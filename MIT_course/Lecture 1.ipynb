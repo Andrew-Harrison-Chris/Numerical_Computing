{
 "cells": [
  {
   "cell_type": "markdown",
   "metadata": {},
   "source": [
    "Chris DeGrendele"
   ]
  },
  {
   "cell_type": "markdown",
   "metadata": {},
   "source": [
    "**A course on Scientific Machine Learning and performant code in general. Content is mostly sourced from https://mitmath.github.io/18337/ although I implemented most of the algorithms and graphs to better understand the content myself, along with some extra material.**"
   ]
  },
  {
   "cell_type": "markdown",
   "metadata": {},
   "source": [
    "Scientific Machine Learning is a domain model with integrated machine learning\n",
    "\n",
    "Mechanistic Model - A nonlinear equation or differential equation. Mechanistic models are interpretable, can be extended, etc.\n",
    "\n",
    "Nonmechanistic Model - ML, give predictive results directly from data, but with out interpretabilty or mechanistic models. A black box essentially\n",
    "\n",
    "CNNs are inherently structure assumption\n",
    "\n",
    "Neural networks are just function expansions, fancy taylor series like things which are good for computing but bad for analysis"
   ]
  },
  {
   "cell_type": "markdown",
   "metadata": {},
   "source": [
    "## Latent Neural Differential Equation\n",
    "consider an ODE:\n",
    "$$u' = f(u,p,t)$$\n",
    "just let f be a nerual network.\n",
    "\n",
    "#### Where can we stick neural networks?\n",
    "1. Where the 'activations' are nonlinear functions described by differential equations\n",
    "2. Where some layers are ODE solves\n",
    "3. ODEs can be defined where some terms are neural networks\n",
    "4. Cost functions on ODEs can define neural networks"
   ]
  },
  {
   "cell_type": "code",
   "execution_count": null,
   "metadata": {},
   "outputs": [],
   "source": []
  }
 ],
 "metadata": {
  "kernelspec": {
   "display_name": "Julia 1.3.1",
   "language": "julia",
   "name": "julia-1.3"
  },
  "language_info": {
   "file_extension": ".jl",
   "mimetype": "application/julia",
   "name": "julia",
   "version": "1.3.1"
  }
 },
 "nbformat": 4,
 "nbformat_minor": 2
}
