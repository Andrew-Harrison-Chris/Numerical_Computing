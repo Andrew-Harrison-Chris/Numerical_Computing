{
 "cells": [
  {
   "cell_type": "markdown",
   "metadata": {},
   "source": [
    "# Automatic Differentiation \n",
    "Automatic differentiation (AD) aka algorithmic or computational differentiation, is a set of techniques to calculate **exact** derivatives of functions. It is neither symbolic nor finite difference like approximations. \n",
    "\n",
    "There are two main methods: \"Forward Mode\" and \"Reverse Mode\". Both have strengths and weeknesses\n",
    "\n",
    "### Forward Mode Automatic Differentiation:\n",
    "\n",
    "Consider two smooth functions f and g, near point a. The following expansion is the same for g. \n",
    "$$f(x) = f(a) + f'(a)(x-a) + O(x-a)^2$$\n",
    "Let $\\epsilon = x-a$, such that:\n",
    "$$f(x) = f(a+\\epsilon) = f(a) + \\epsilon f'(a) + O(\\epsilon^2)$$\n",
    "\n",
    "Sum of the two functions:\n",
    "\n",
    "$$\\begin{aligned}(f+g)(x) &=f(x)+g(x)=f(a)+\\epsilon f^{\\prime}(a)+g(a)+\\epsilon g^{\\prime}(a) \\\\ &=[f(a)+g(a)]+\\epsilon\\left[f^{\\prime}(a)+g^{\\prime}(a)\\right] \\end{aligned}$$\n",
    "\n",
    "And the product gives:\n",
    "\\begin{aligned}(f \\cdot g)(x) &=f(x) \\cdot g(x)=\\left[f(a)+\\epsilon f^{\\prime}(a)\\right] \\cdot\\left[g(a)+\\epsilon g^{\\prime}(a)\\right] \\\\ &=[f(a) \\cdot g(a)]+\\epsilon\\left[f(a) g^{\\prime}(a)+g(a) f^{\\prime}(a)\\right] \\end{aligned}\n",
    "\n",
    "Thus:\n",
    "\\begin{aligned}(f+g)^{\\prime}(a) &=f^{\\prime}(a)+g^{\\prime}(a) \\\\(f \\cdot g)^{\\prime}(a) &=f^{\\prime}(a) g(a)+f(a) g^{\\prime}(a) \\end{aligned}\n",
    "\n",
    "We also have chain rule:\n",
    "\\begin{aligned}(f \\circ g)(x) &=f(g(x))=f\\left(g(a)+\\epsilon g^{\\prime}(a)\\right) \\\\ &=f(g(a))+\\epsilon g^{\\prime}(a) f^{\\prime}(g(a)) \\end{aligned}\n",
    "$$(f \\circ g)^{\\prime}(a)=f^{\\prime}(g(a)) g^{\\prime}(a)$$\n",
    "\n",
    "We can see which information about each function we need in order to calculate derivatives of their combinations. For each function f we need its value f(a) and its derivative f'(a). This is the only information we require in order to calculate the first derivative of any combination of functions.\n",
    "\n",
    "### Lets do this on a computer:"
   ]
  },
  {
   "cell_type": "code",
   "execution_count": 1,
   "metadata": {},
   "outputs": [],
   "source": [
    "#dual will represent a function where we can store f(a) and f'(a).\n",
    "struct Dual{T}\n",
    "    val::T   # value\n",
    "    der::T  # derivative\n",
    "end"
   ]
  },
  {
   "cell_type": "code",
   "execution_count": 2,
   "metadata": {},
   "outputs": [
    {
     "data": {
      "text/plain": [
       "+ (generic function with 169 methods)"
      ]
     },
     "execution_count": 2,
     "metadata": {},
     "output_type": "execute_result"
    }
   ],
   "source": [
    "#Overide base functions. Adding AD functionality right into the world of math functions. \n",
    "\n",
    "import Base: +, *, -, ^, exp\n",
    "\n",
    "+(f::Dual, g::Dual) = Dual(f.val + g.val, f.der + g.der)\n",
    "+(f::Dual, α::Number) = Dual(f.val + α, f.der)\n",
    "+(α::Number, f::Dual) = f + α"
   ]
  },
  {
   "cell_type": "markdown",
   "metadata": {},
   "source": [
    "But where did these come from? These are these quations, which come from above$$(f+g)(x) =[f(a)+g(a)]+\\epsilon\\left[f^{\\prime}(a)+g^{\\prime}(a)\\right]$$\n",
    "If g is a constant:\n",
    "$$(f+g)(x) =[f(a)+g(a)]+\\epsilon\\left[f^{\\prime}(a)+0\\right]$$\n",
    "\n"
   ]
  },
  {
   "cell_type": "code",
   "execution_count": 3,
   "metadata": {},
   "outputs": [
    {
     "data": {
      "text/plain": [
       "exp (generic function with 14 methods)"
      ]
     },
     "execution_count": 3,
     "metadata": {},
     "output_type": "execute_result"
    }
   ],
   "source": [
    "# now the rest of the stuff...\n",
    "-(f::Dual, g::Dual) = Dual(f.val - g.val, f.der - g.der)\n",
    "\n",
    "*(f::Dual, g::Dual) = Dual(f.val*g.val, f.der*g.val + f.val*g.der)\n",
    "*(α::Number, f::Dual) = Dual(f.val * α, f.der * α)\n",
    "*(f::Dual, α::Number) = α * f\n",
    "\n",
    "\n",
    "^(f::Dual, n::Integer) = Base.power_by_squaring(f, n)  # use repeated squaring for integer powers\n",
    "\n",
    "exp(f::Dual) = Dual(exp(f.val), exp(f.val) * f.der)\n"
   ]
  },
  {
   "cell_type": "code",
   "execution_count": 4,
   "metadata": {},
   "outputs": [
    {
     "data": {
      "text/plain": [
       "Dual{Int64}(8, 10)"
      ]
     },
     "execution_count": 4,
     "metadata": {},
     "output_type": "execute_result"
    }
   ],
   "source": [
    "f = Dual(3,4)\n",
    "g = Dual(5,6)\n",
    "f+g"
   ]
  },
  {
   "cell_type": "markdown",
   "metadata": {},
   "source": [
    "Nice, $(f+g)(a) = 8$ and $(f+g)'(a) = 10$!"
   ]
  },
  {
   "cell_type": "code",
   "execution_count": 5,
   "metadata": {},
   "outputs": [
    {
     "data": {
      "text/plain": [
       "Dual{Int64}(15, 38)"
      ]
     },
     "execution_count": 5,
     "metadata": {},
     "output_type": "execute_result"
    }
   ],
   "source": [
    "f*g"
   ]
  },
  {
   "cell_type": "code",
   "execution_count": 6,
   "metadata": {},
   "outputs": [
    {
     "data": {
      "text/plain": [
       "Dual{Int64}(3000, 14800)"
      ]
     },
     "execution_count": 6,
     "metadata": {},
     "output_type": "execute_result"
    }
   ],
   "source": [
    "#we can even do more complicated things!\n",
    "f*(g+g)^3"
   ]
  },
  {
   "cell_type": "markdown",
   "metadata": {},
   "source": [
    "### Differentiating arbitrary functions."
   ]
  },
  {
   "cell_type": "code",
   "execution_count": 7,
   "metadata": {},
   "outputs": [],
   "source": [
    "h(x) = x^2 + 2\n",
    "a = 3;"
   ]
  },
  {
   "cell_type": "markdown",
   "metadata": {},
   "source": [
    "Where h is a function of x, which we can think of as an identity function passed in. The identity function is $\\iota$ and $\\mathbf{1}$ is a ones function. Always gives 1. This seems like weird uneceessary stuff, but, its to formally identify us passing a constant in. We only know the derivative of operations of other derivatives. But defining it this way, we know the derivative and function of a constant.\n",
    "$$ h = \\iota^2 + 2*\\mathbf{1}$$"
   ]
  },
  {
   "cell_type": "code",
   "execution_count": 8,
   "metadata": {},
   "outputs": [
    {
     "data": {
      "text/plain": [
       "Dual{Int64}(3, 1)"
      ]
     },
     "execution_count": 8,
     "metadata": {},
     "output_type": "execute_result"
    }
   ],
   "source": [
    "#^ has a derivative of 1, value of a.\n",
    "xx = Dual(a,1)"
   ]
  },
  {
   "cell_type": "markdown",
   "metadata": {},
   "source": [
    "$\\text { since } \\iota^{\\prime}(a)=1 \\text { for any } a$"
   ]
  },
  {
   "cell_type": "code",
   "execution_count": 9,
   "metadata": {},
   "outputs": [
    {
     "data": {
      "text/plain": [
       "Dual{Int64}(11, 6)"
      ]
     },
     "execution_count": 9,
     "metadata": {},
     "output_type": "execute_result"
    }
   ],
   "source": [
    "h(xx)"
   ]
  },
  {
   "cell_type": "markdown",
   "metadata": {},
   "source": [
    "It works!\n",
    "\n",
    "h(3) = 3^2 + 2 =  11\n",
    "\n",
    "h'(3) = 2*3 =  6"
   ]
  },
  {
   "cell_type": "code",
   "execution_count": 10,
   "metadata": {},
   "outputs": [
    {
     "data": {
      "text/plain": [
       "derivative (generic function with 1 method)"
      ]
     },
     "execution_count": 10,
     "metadata": {},
     "output_type": "execute_result"
    }
   ],
   "source": [
    "#wrapping this in a function:\n",
    "derivative(f,x) = f(Dual(x,one(x))).der"
   ]
  },
  {
   "cell_type": "code",
   "execution_count": 11,
   "metadata": {},
   "outputs": [
    {
     "data": {
      "text/plain": [
       "240"
      ]
     },
     "execution_count": 11,
     "metadata": {},
     "output_type": "execute_result"
    }
   ],
   "source": [
    "derivative(x -> 3x^5 + 2, 2)"
   ]
  },
  {
   "cell_type": "markdown",
   "metadata": {},
   "source": [
    "#### We can also compute partial derivatives with this. \n",
    "$$f(x,y)$$\n",
    "$$\\frac{\\partial f}{\\partial x}|_{x=a}$$"
   ]
  },
  {
   "cell_type": "code",
   "execution_count": 12,
   "metadata": {},
   "outputs": [
    {
     "data": {
      "text/plain": [
       "6.0"
      ]
     },
     "execution_count": 12,
     "metadata": {},
     "output_type": "execute_result"
    }
   ],
   "source": [
    "ff(x,y) = x^2 + y\n",
    "b = 4.0\n",
    "a = 3.0\n",
    "ff_1(x) = ff(x,b)\n",
    "derivative(ff_1,a)"
   ]
  },
  {
   "cell_type": "markdown",
   "metadata": {},
   "source": [
    "## Generalization of ForwardDiff to higher dimensions:\n",
    "$$f(a+\\epsilon)=f(a)+\\nabla f(a) \\cdot \\epsilon+\\mathcal{O}\\left(\\epsilon^{2}\\right)$$\n",
    "\\begin{array}{c}(f+g)(a+\\epsilon)=[f(a)+g(a)]+[\\nabla f(a)+\\nabla g(a)] \\cdot \\epsilon \\\\ (f \\cdot g)(a+\\epsilon)=[f(a)+\\nabla f(a) \\cdot \\epsilon][g(a)+\\nabla g(a) \\cdot \\epsilon] \\\\ =f(a) g(a)+[f(a) \\nabla g(a)+g(a) \\nabla f(a)] \\cdot \\epsilon\\end{array}"
   ]
  },
  {
   "cell_type": "code",
   "execution_count": 13,
   "metadata": {},
   "outputs": [
    {
     "data": {
      "text/plain": [
       "* (generic function with 385 methods)"
      ]
     },
     "execution_count": 13,
     "metadata": {},
     "output_type": "execute_result"
    }
   ],
   "source": [
    "using StaticArrays\n",
    "struct MultiDual{N,T}\n",
    "    val::T\n",
    "    derivs::SVector{N,T}\n",
    "end\n",
    "\n",
    "import Base: +, *\n",
    "\n",
    "function +(f::MultiDual{N,T}, g::MultiDual{N,T}) where {N,T}\n",
    "    return MultiDual{N,T}(f.val + g.val, f.derivs + g.derivs)\n",
    "end\n",
    "\n",
    "function *(f::MultiDual{N,T}, g::MultiDual{N,T}) where {N,T}\n",
    "    return MultiDual{N,T}(f.val * g.val, f.val .* g.derivs + g.val .* f.derivs)\n",
    "end\n"
   ]
  },
  {
   "cell_type": "code",
   "execution_count": 14,
   "metadata": {},
   "outputs": [
    {
     "data": {
      "text/plain": [
       "MultiDual{2,Float64}(5.0, [5.0, 2.0])"
      ]
     },
     "execution_count": 14,
     "metadata": {},
     "output_type": "execute_result"
    }
   ],
   "source": [
    "gg(x, y) = x*x*y + x + y\n",
    "\n",
    "(a, b) = (1.0, 2.0)\n",
    "\n",
    "xx = MultiDual(a, SVector(1.0, 0.0))\n",
    "yy = MultiDual(b, SVector(0.0, 1.0))\n",
    "\n",
    "gg(xx, yy)\n"
   ]
  },
  {
   "cell_type": "markdown",
   "metadata": {},
   "source": [
    "# Julia has this stuff already!"
   ]
  },
  {
   "cell_type": "code",
   "execution_count": 132,
   "metadata": {},
   "outputs": [
    {
     "data": {
      "text/plain": [
       "2-element Array{Int64,1}:\n",
       " 6\n",
       " 2"
      ]
     },
     "execution_count": 132,
     "metadata": {},
     "output_type": "execute_result"
    }
   ],
   "source": [
    "using ForwardDiff\n",
    "#even more complicated derivative based terms.\n",
    "\n",
    "ForwardDiff.gradient( array -> ( (x, y) = array; x^2 * y + x*y ), [1, 2])"
   ]
  },
  {
   "cell_type": "code",
   "execution_count": 133,
   "metadata": {},
   "outputs": [
    {
     "data": {
      "text/plain": [
       "3"
      ]
     },
     "execution_count": 133,
     "metadata": {},
     "output_type": "execute_result"
    }
   ],
   "source": [
    "ForwardDiff.derivative( array -> ( (x) = array; x^2 + x ), 1)"
   ]
  },
  {
   "cell_type": "code",
   "execution_count": 134,
   "metadata": {},
   "outputs": [
    {
     "data": {
      "text/plain": [
       "2×2 Array{Float64,2}:\n",
       " 6.0  2.0\n",
       " 0.0  0.0"
      ]
     },
     "execution_count": 134,
     "metadata": {},
     "output_type": "execute_result"
    }
   ],
   "source": [
    "ForwardDiff.jacobian( array -> ( (x, y) = array; [x^2 * y + x*y,3.0] ), [1, 2])"
   ]
  },
  {
   "cell_type": "code",
   "execution_count": 135,
   "metadata": {},
   "outputs": [
    {
     "data": {
      "text/plain": [
       "2×2 Array{Int64,2}:\n",
       " 4  3\n",
       " 3  0"
      ]
     },
     "execution_count": 135,
     "metadata": {},
     "output_type": "execute_result"
    }
   ],
   "source": [
    "ForwardDiff.hessian( array -> ( (x, y) = array; x^2 * y + x*y ), [1, 2])"
   ]
  },
  {
   "cell_type": "markdown",
   "metadata": {},
   "source": [
    "# A note on Julia that I didn't understand before..."
   ]
  },
  {
   "cell_type": "code",
   "execution_count": 136,
   "metadata": {},
   "outputs": [
    {
     "name": "stdout",
     "output_type": "stream",
     "text": [
      "4\n",
      "4\n",
      "4.0\n",
      "4.0\n",
      "Anonmym functions\n",
      "4\n",
      "two arg anonym:\n",
      "4\n",
      "Printed from a zero arg anonym function\n",
      "Multilines with ;\n",
      "4\n",
      "4\n",
      "Rounding:\n",
      "[1.0, 4.0, 2.0]\n",
      "adding 1\n",
      "[4.0, 5.0, 6.0]\n"
     ]
    },
    {
     "data": {
      "text/plain": [
       "48"
      ]
     },
     "execution_count": 136,
     "metadata": {},
     "output_type": "execute_result"
    }
   ],
   "source": [
    "#Two ways to define functions!\n",
    "function test1(x,y)\n",
    "    return x+y\n",
    "end\n",
    "\n",
    "test2(x,y) = x+y\n",
    "\n",
    "#They do the same thing:\n",
    "println(test1(3,1))\n",
    "println(test2(3,1))\n",
    "\n",
    "\n",
    "#We can also convert the output...\n",
    "function test1_float(x,y)::Float64\n",
    "    return x+y\n",
    "end\n",
    "\n",
    "test2_float(x,y)::Float64 = x+y\n",
    "\n",
    "println(test1_float(3,1))\n",
    "println(test2_float(3,1))\n",
    "\n",
    "#Anonymous Functions\n",
    "println(\"Anonmym functions\")\n",
    "println((x -> x+1)(3))\n",
    "\n",
    "#two arguement anonyms function\n",
    "println(\"two arg anonym:\")\n",
    "println(((x,y) -> x+y)(3,1))\n",
    "\n",
    "#zero arguemtn anonyms\n",
    "(()->println(\"Printed from a zero arg anonym function\"))()\n",
    "\n",
    "#multi line anonym function\n",
    "println(\"Multilines with ;\")\n",
    "(array -> ((a1, a2) = array; println(a1+a2)))([3,1])\n",
    "\n",
    "#Or we can define it by this way:\n",
    "test3 = function (x)\n",
    "    x+1\n",
    "end\n",
    "\n",
    "println(test3(3))\n",
    "\n",
    "#mapping functions onto an array... \n",
    "#computes the funnction on each of the elements. \n",
    "println(\"Rounding:\")\n",
    "println(map(round, [1.2,3.5,1.7]))\n",
    "println(\"adding 1\")\n",
    "println(map(x-> x+1, [3.0, 4.0, 5.0]))\n",
    "\n",
    "#Ok this is an anymoum function. which has two lines, decomposing a 2 element array then calculating \n",
    "#a func based on the two elements!\n",
    "(xx -> ( (x, y) = xx; x^2 * y + x*y ))([3,4])"
   ]
  },
  {
   "cell_type": "markdown",
   "metadata": {},
   "source": [
    "# Reverse Mode\n",
    "\n",
    "An alternative method to calculate derivatives is to fix not the variable with which to differentiate, but what it is that we differentiate.\n",
    "\n",
    "To calculate the **adjoint** for each $i$, $$\\bar{v}_{i}:=\\frac{d f}{\\partial v_{i}}$$\n",
    "\n",
    "Thus, if $f = v_1 + v_2$ and $v_1 = v_3 + v_4$ and $v_2 = v_3 + v_5$\n",
    "\n",
    "\n",
    "then:\n",
    "$$\\frac{\\partial f}{\\partial v_{3}}=\\frac{\\partial f}{\\partial v_{1}} \\frac{\\partial v_{1}}{\\partial v_{3}}+\\frac{\\partial f}{\\partial v_{2}} \\frac{\\partial v_{2}}{\\partial v_{3}}$$\n",
    "\n",
    "\n",
    "$$\\implies \\overline{v_{3}}=\\alpha_{13} \\overline{v_{1}}+\\alpha_{2,3} \\overline{v_{2}}$$\n",
    "\n",
    "where $\\alpha_{i,j}$ is the coefficient specifying the relationship between the different terms. \n",
    "\n",
    "The adjoint information propagates down the graph, in reverse order, hense the name \"reverse-mode\"\n",
    "\n",
    "For this reason, reverse mode is much harder to implement. However, it has the advantage taht all the derivatives $\\frac{\\partial f}{\\partial x_i}$ are calculated in a single pass of the tree. Thus this is the method of choice for calculating the gradient of a function $\\mathbb{R}^{n} \\rightarrow \\mathbb{R}$, which is a very common case, in the context of mathematical optimization and machine learning.\n",
    "\n",
    "# Example of reverse mode\n",
    "\n",
    "In general its' really hard to implement this in a general way, but easy to do by hand. Consider the function:\n",
    "$$f(x,y,z) = xy - 2sin(xz)$$\n"
   ]
  },
  {
   "cell_type": "code",
   "execution_count": 144,
   "metadata": {},
   "outputs": [
    {
     "data": {
      "text/plain": [
       "1.7177599838802655"
      ]
     },
     "execution_count": 144,
     "metadata": {},
     "output_type": "execute_result"
    }
   ],
   "source": [
    "ff(x,y,z) = x*y - 2*sin(x*z)\n",
    "\n",
    "x,y,z = 1,2,3\n",
    "\n",
    "v₁ = x\n",
    "v₂ = y\n",
    "v₃ = z\n",
    "v₄ = v₁ * v₂ #x*y\n",
    "v₅ = v₁ * v₃ #x*z\n",
    "v₆ = sin(v₅) #sin(x*z)\n",
    "\n",
    "v₇ = v₄ - 2v₆  # f"
   ]
  },
  {
   "cell_type": "code",
   "execution_count": 145,
   "metadata": {},
   "outputs": [
    {
     "data": {
      "text/plain": [
       "1.7177599838802655"
      ]
     },
     "execution_count": 145,
     "metadata": {},
     "output_type": "execute_result"
    }
   ],
   "source": [
    "ff(x, y, z)"
   ]
  },
  {
   "cell_type": "markdown",
   "metadata": {},
   "source": [
    "Ok, we have it decomposed, now we can calculate the adjoints. "
   ]
  },
  {
   "cell_type": "code",
   "execution_count": 146,
   "metadata": {},
   "outputs": [
    {
     "data": {
      "text/plain": [
       "7.939954979602673"
      ]
     },
     "execution_count": 146,
     "metadata": {},
     "output_type": "execute_result"
    }
   ],
   "source": [
    "v̄₇ = 1   # seed\n",
    "v̄₆ = -2 # ∂f/∂v₆ = ∂v₇/∂v₆\n",
    "v̄₅ = v̄₆ * cos(v₅)  # ∂v₇/∂v₆ * ∂v₆/∂v₅\n",
    "v̄₄ = 1   # ∂f/∂v₄ = ∂v₇/∂v₄\n",
    "v̄₃ = v̄₅ * v₁  # ∂f/∂v₃ = ∂f/∂v₅ . ∂v₅/∂v₃. # This gives ∂f/∂z\n",
    "v̄₂ = v̄₄ * v₁\n",
    "v̄₁ = v̄₅*v₃ + v̄₄*v₂   # two *different* paths"
   ]
  },
  {
   "cell_type": "markdown",
   "metadata": {},
   "source": [
    "In a single pass, we calculated the gradient, "
   ]
  },
  {
   "cell_type": "code",
   "execution_count": 148,
   "metadata": {},
   "outputs": [
    {
     "data": {
      "text/plain": [
       "(7.939954979602673, 1, 1.9799849932008908)"
      ]
     },
     "execution_count": 148,
     "metadata": {},
     "output_type": "execute_result"
    }
   ],
   "source": [
    "(v̄₁, v̄₂, v̄₃)"
   ]
  },
  {
   "cell_type": "code",
   "execution_count": 150,
   "metadata": {},
   "outputs": [
    {
     "data": {
      "text/plain": [
       "3-element Array{Float64,1}:\n",
       " 7.939954979602673 \n",
       " 1.0               \n",
       " 1.9799849932008908"
      ]
     },
     "execution_count": 150,
     "metadata": {},
     "output_type": "execute_result"
    }
   ],
   "source": [
    "#It's correct!\n",
    "ForwardDiff.gradient(x->ff(x...), [x,y,z])"
   ]
  },
  {
   "cell_type": "code",
   "execution_count": null,
   "metadata": {},
   "outputs": [],
   "source": []
  }
 ],
 "metadata": {
  "kernelspec": {
   "display_name": "Julia 1.3.1",
   "language": "julia",
   "name": "julia-1.3"
  },
  "language_info": {
   "file_extension": ".jl",
   "mimetype": "application/julia",
   "name": "julia",
   "version": "1.3.1"
  }
 },
 "nbformat": 4,
 "nbformat_minor": 2
}
